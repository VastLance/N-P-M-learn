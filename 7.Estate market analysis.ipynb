{
 "cells": [
  {
   "metadata": {},
   "cell_type": "markdown",
   "source": "# 项目实战：房地产市场分析",
   "id": "4ad493dc5d6e216d"
  },
  {
   "metadata": {},
   "cell_type": "markdown",
   "source": [
    "- 1. 导入库\n",
    "- 2. 导入数据\n",
    "- 3. 数据概览\n",
    "- 4. 数据清洗\n",
    "- 5. 新数据特征构造\n",
    "- 6. 问题分析及可视化"
   ],
   "id": "70e6387b9a7cdfb1"
  },
  {
   "metadata": {},
   "cell_type": "markdown",
   "source": "## 1.导入库",
   "id": "85b8ef3368b731c6"
  },
  {
   "metadata": {
    "ExecuteTime": {
     "end_time": "2025-07-25T15:06:26.198007Z",
     "start_time": "2025-07-25T15:06:26.194713Z"
    }
   },
   "cell_type": "code",
   "source": [
    "import numpy as np\n",
    "import pandas as pd\n",
    "import matplotlib.pyplot as plt\n",
    "import seaborn as sns\n",
    "from matplotlib import rcParams\n",
    "rcParams['font.family'] = 'SimHei'\n",
    "rcParams['axes.unicode_minus'] = False"
   ],
   "id": "87e70b6c4e3b2e64",
   "outputs": [],
   "execution_count": 2
  },
  {
   "metadata": {},
   "cell_type": "markdown",
   "source": "## 2.导入数据",
   "id": "7aeae54c40d9881f"
  },
  {
   "metadata": {
    "ExecuteTime": {
     "end_time": "2025-07-25T15:06:34.834510Z",
     "start_time": "2025-07-25T15:06:34.536908Z"
    }
   },
   "cell_type": "code",
   "source": "df = pd.read_csv('data/house_sales.csv')",
   "id": "8d18fe4129068010",
   "outputs": [],
   "execution_count": 3
  },
  {
   "metadata": {},
   "cell_type": "markdown",
   "source": "## 3.数据概览",
   "id": "5d3397ce83a3d2ef"
  },
  {
   "metadata": {
    "ExecuteTime": {
     "end_time": "2025-07-25T15:11:39.911732Z",
     "start_time": "2025-07-25T15:11:39.897273Z"
    }
   },
   "cell_type": "code",
   "source": [
    "print('行数：',len(df))\n",
    "print('列数：',len(df.columns))\n",
    "df.head()"
   ],
   "id": "1bf509707430afde",
   "outputs": [
    {
     "name": "stdout",
     "output_type": "stream",
     "text": [
      "行数： 106118\n",
      "列数： 12\n"
     ]
    },
    {
     "data": {
      "text/plain": [
       "  city              address area     floor    name price province rooms  \\\n",
       "0   合肥   龙岗-临泉东路和王岗大道交叉口东南角  90㎡  中层（共18层）    圣地亚哥  128万       安徽  3室2厅   \n",
       "1   合肥   龙岗-临泉东路和王岗大道交叉口东南角  90㎡  中层（共18层）    圣地亚哥  128万       安徽  3室2厅   \n",
       "2   合肥      生态公园-淮海大道与大众路交口  95㎡  中层（共18层）  正荣·悦都荟  132万       安徽  3室2厅   \n",
       "3   合肥      生态公园-淮海大道与大众路交口  95㎡  中层（共18层）  正荣·悦都荟  132万       安徽  3室2厅   \n",
       "4   合肥  撮镇-文一名门金隅裕溪路与东风大道交口  37㎡  中层（共22层）  文一名门金隅   32万       安徽  2室1厅   \n",
       "\n",
       "  toward      unit    year                                       origin_url  \n",
       "0    南北向  14222元/㎡  2013年建  https://hf.esf.fang.com/chushou/3_404230646.htm  \n",
       "1    南北向  14222元/㎡  2013年建  https://hf.esf.fang.com/chushou/3_404230646.htm  \n",
       "2     南向  13895元/㎡  2019年建  https://hf.esf.fang.com/chushou/3_404304901.htm  \n",
       "3     南向  13895元/㎡  2019年建  https://hf.esf.fang.com/chushou/3_404304901.htm  \n",
       "4    南北向   8649元/㎡  2017年建  https://hf.esf.fang.com/chushou/3_404372096.htm  "
      ],
      "text/html": [
       "<div>\n",
       "<style scoped>\n",
       "    .dataframe tbody tr th:only-of-type {\n",
       "        vertical-align: middle;\n",
       "    }\n",
       "\n",
       "    .dataframe tbody tr th {\n",
       "        vertical-align: top;\n",
       "    }\n",
       "\n",
       "    .dataframe thead th {\n",
       "        text-align: right;\n",
       "    }\n",
       "</style>\n",
       "<table border=\"1\" class=\"dataframe\">\n",
       "  <thead>\n",
       "    <tr style=\"text-align: right;\">\n",
       "      <th></th>\n",
       "      <th>city</th>\n",
       "      <th>address</th>\n",
       "      <th>area</th>\n",
       "      <th>floor</th>\n",
       "      <th>name</th>\n",
       "      <th>price</th>\n",
       "      <th>province</th>\n",
       "      <th>rooms</th>\n",
       "      <th>toward</th>\n",
       "      <th>unit</th>\n",
       "      <th>year</th>\n",
       "      <th>origin_url</th>\n",
       "    </tr>\n",
       "  </thead>\n",
       "  <tbody>\n",
       "    <tr>\n",
       "      <th>0</th>\n",
       "      <td>合肥</td>\n",
       "      <td>龙岗-临泉东路和王岗大道交叉口东南角</td>\n",
       "      <td>90㎡</td>\n",
       "      <td>中层（共18层）</td>\n",
       "      <td>圣地亚哥</td>\n",
       "      <td>128万</td>\n",
       "      <td>安徽</td>\n",
       "      <td>3室2厅</td>\n",
       "      <td>南北向</td>\n",
       "      <td>14222元/㎡</td>\n",
       "      <td>2013年建</td>\n",
       "      <td>https://hf.esf.fang.com/chushou/3_404230646.htm</td>\n",
       "    </tr>\n",
       "    <tr>\n",
       "      <th>1</th>\n",
       "      <td>合肥</td>\n",
       "      <td>龙岗-临泉东路和王岗大道交叉口东南角</td>\n",
       "      <td>90㎡</td>\n",
       "      <td>中层（共18层）</td>\n",
       "      <td>圣地亚哥</td>\n",
       "      <td>128万</td>\n",
       "      <td>安徽</td>\n",
       "      <td>3室2厅</td>\n",
       "      <td>南北向</td>\n",
       "      <td>14222元/㎡</td>\n",
       "      <td>2013年建</td>\n",
       "      <td>https://hf.esf.fang.com/chushou/3_404230646.htm</td>\n",
       "    </tr>\n",
       "    <tr>\n",
       "      <th>2</th>\n",
       "      <td>合肥</td>\n",
       "      <td>生态公园-淮海大道与大众路交口</td>\n",
       "      <td>95㎡</td>\n",
       "      <td>中层（共18层）</td>\n",
       "      <td>正荣·悦都荟</td>\n",
       "      <td>132万</td>\n",
       "      <td>安徽</td>\n",
       "      <td>3室2厅</td>\n",
       "      <td>南向</td>\n",
       "      <td>13895元/㎡</td>\n",
       "      <td>2019年建</td>\n",
       "      <td>https://hf.esf.fang.com/chushou/3_404304901.htm</td>\n",
       "    </tr>\n",
       "    <tr>\n",
       "      <th>3</th>\n",
       "      <td>合肥</td>\n",
       "      <td>生态公园-淮海大道与大众路交口</td>\n",
       "      <td>95㎡</td>\n",
       "      <td>中层（共18层）</td>\n",
       "      <td>正荣·悦都荟</td>\n",
       "      <td>132万</td>\n",
       "      <td>安徽</td>\n",
       "      <td>3室2厅</td>\n",
       "      <td>南向</td>\n",
       "      <td>13895元/㎡</td>\n",
       "      <td>2019年建</td>\n",
       "      <td>https://hf.esf.fang.com/chushou/3_404304901.htm</td>\n",
       "    </tr>\n",
       "    <tr>\n",
       "      <th>4</th>\n",
       "      <td>合肥</td>\n",
       "      <td>撮镇-文一名门金隅裕溪路与东风大道交口</td>\n",
       "      <td>37㎡</td>\n",
       "      <td>中层（共22层）</td>\n",
       "      <td>文一名门金隅</td>\n",
       "      <td>32万</td>\n",
       "      <td>安徽</td>\n",
       "      <td>2室1厅</td>\n",
       "      <td>南北向</td>\n",
       "      <td>8649元/㎡</td>\n",
       "      <td>2017年建</td>\n",
       "      <td>https://hf.esf.fang.com/chushou/3_404372096.htm</td>\n",
       "    </tr>\n",
       "  </tbody>\n",
       "</table>\n",
       "</div>"
      ]
     },
     "execution_count": 9,
     "metadata": {},
     "output_type": "execute_result"
    }
   ],
   "execution_count": 9
  },
  {
   "metadata": {
    "ExecuteTime": {
     "end_time": "2025-07-25T15:11:49.766977Z",
     "start_time": "2025-07-25T15:11:49.724909Z"
    }
   },
   "cell_type": "code",
   "source": "df.info()",
   "id": "cb7c6cc325325082",
   "outputs": [
    {
     "name": "stdout",
     "output_type": "stream",
     "text": [
      "<class 'pandas.core.frame.DataFrame'>\n",
      "RangeIndex: 106118 entries, 0 to 106117\n",
      "Data columns (total 12 columns):\n",
      " #   Column      Non-Null Count   Dtype \n",
      "---  ------      --------------   ----- \n",
      " 0   city        106118 non-null  object\n",
      " 1   address     104452 non-null  object\n",
      " 2   area        105324 non-null  object\n",
      " 3   floor       104024 non-null  object\n",
      " 4   name        105564 non-null  object\n",
      " 5   price       105564 non-null  object\n",
      " 6   province    106118 non-null  object\n",
      " 7   rooms       104036 non-null  object\n",
      " 8   toward      105240 non-null  object\n",
      " 9   unit        105564 non-null  object\n",
      " 10  year        57736 non-null   object\n",
      " 11  origin_url  105564 non-null  object\n",
      "dtypes: object(12)\n",
      "memory usage: 9.7+ MB\n"
     ]
    }
   ],
   "execution_count": 10
  },
  {
   "metadata": {},
   "cell_type": "markdown",
   "source": "## 4.数据清洗",
   "id": "ed8f5eb8db3e10e2"
  },
  {
   "metadata": {},
   "cell_type": "markdown",
   "source": "> 这里我是先删除了无用值和重复值，再删除了缺失值，所以数据先后有些不一样，不过总体上效果是一样的",
   "id": "418258c6f65d6cd4"
  },
  {
   "metadata": {},
   "cell_type": "markdown",
   "source": "### 处理 缺失值、无用值、重复值",
   "id": "e19c101aa11ea176"
  },
  {
   "metadata": {
    "ExecuteTime": {
     "end_time": "2025-07-25T15:44:43.607458Z",
     "start_time": "2025-07-25T15:44:43.582272Z"
    }
   },
   "cell_type": "code",
   "source": [
    "# 检查是否有缺失值\n",
    "df.isna().sum()"
   ],
   "id": "1e888dc739daeb22",
   "outputs": [
    {
     "data": {
      "text/plain": [
       "city            0\n",
       "address       826\n",
       "area          388\n",
       "floor        1023\n",
       "name          277\n",
       "price         277\n",
       "province        0\n",
       "rooms        1017\n",
       "toward        434\n",
       "unit          277\n",
       "year        23330\n",
       "dtype: int64"
      ]
     },
     "execution_count": 51,
     "metadata": {},
     "output_type": "execute_result"
    }
   ],
   "execution_count": 51
  },
  {
   "metadata": {
    "ExecuteTime": {
     "end_time": "2025-07-25T15:46:52.342273Z",
     "start_time": "2025-07-25T15:46:52.317400Z"
    }
   },
   "cell_type": "code",
   "source": [
    "# 删除缺失值\n",
    "df.dropna(inplace=True)\n",
    "print(df.isna().sum())\n",
    "print(len(df))"
   ],
   "id": "389c4326d0573f02",
   "outputs": [
    {
     "name": "stdout",
     "output_type": "stream",
     "text": [
      "city        0\n",
      "address     0\n",
      "area        0\n",
      "floor       0\n",
      "name        0\n",
      "price       0\n",
      "province    0\n",
      "rooms       0\n",
      "toward      0\n",
      "unit        0\n",
      "year        0\n",
      "dtype: int64\n",
      "28104\n"
     ]
    }
   ],
   "execution_count": 54
  },
  {
   "metadata": {
    "ExecuteTime": {
     "end_time": "2025-07-25T15:14:02.489038Z",
     "start_time": "2025-07-25T15:14:02.465284Z"
    }
   },
   "cell_type": "code",
   "source": [
    "# 删除无用的数据列\n",
    "df.drop(columns='origin_url',inplace=True)\n",
    "df.head()"
   ],
   "id": "80fe90c263c02958",
   "outputs": [
    {
     "data": {
      "text/plain": [
       "  city              address area     floor    name price province rooms  \\\n",
       "0   合肥   龙岗-临泉东路和王岗大道交叉口东南角  90㎡  中层（共18层）    圣地亚哥  128万       安徽  3室2厅   \n",
       "1   合肥   龙岗-临泉东路和王岗大道交叉口东南角  90㎡  中层（共18层）    圣地亚哥  128万       安徽  3室2厅   \n",
       "2   合肥      生态公园-淮海大道与大众路交口  95㎡  中层（共18层）  正荣·悦都荟  132万       安徽  3室2厅   \n",
       "3   合肥      生态公园-淮海大道与大众路交口  95㎡  中层（共18层）  正荣·悦都荟  132万       安徽  3室2厅   \n",
       "4   合肥  撮镇-文一名门金隅裕溪路与东风大道交口  37㎡  中层（共22层）  文一名门金隅   32万       安徽  2室1厅   \n",
       "\n",
       "  toward      unit    year  \n",
       "0    南北向  14222元/㎡  2013年建  \n",
       "1    南北向  14222元/㎡  2013年建  \n",
       "2     南向  13895元/㎡  2019年建  \n",
       "3     南向  13895元/㎡  2019年建  \n",
       "4    南北向   8649元/㎡  2017年建  "
      ],
      "text/html": [
       "<div>\n",
       "<style scoped>\n",
       "    .dataframe tbody tr th:only-of-type {\n",
       "        vertical-align: middle;\n",
       "    }\n",
       "\n",
       "    .dataframe tbody tr th {\n",
       "        vertical-align: top;\n",
       "    }\n",
       "\n",
       "    .dataframe thead th {\n",
       "        text-align: right;\n",
       "    }\n",
       "</style>\n",
       "<table border=\"1\" class=\"dataframe\">\n",
       "  <thead>\n",
       "    <tr style=\"text-align: right;\">\n",
       "      <th></th>\n",
       "      <th>city</th>\n",
       "      <th>address</th>\n",
       "      <th>area</th>\n",
       "      <th>floor</th>\n",
       "      <th>name</th>\n",
       "      <th>price</th>\n",
       "      <th>province</th>\n",
       "      <th>rooms</th>\n",
       "      <th>toward</th>\n",
       "      <th>unit</th>\n",
       "      <th>year</th>\n",
       "    </tr>\n",
       "  </thead>\n",
       "  <tbody>\n",
       "    <tr>\n",
       "      <th>0</th>\n",
       "      <td>合肥</td>\n",
       "      <td>龙岗-临泉东路和王岗大道交叉口东南角</td>\n",
       "      <td>90㎡</td>\n",
       "      <td>中层（共18层）</td>\n",
       "      <td>圣地亚哥</td>\n",
       "      <td>128万</td>\n",
       "      <td>安徽</td>\n",
       "      <td>3室2厅</td>\n",
       "      <td>南北向</td>\n",
       "      <td>14222元/㎡</td>\n",
       "      <td>2013年建</td>\n",
       "    </tr>\n",
       "    <tr>\n",
       "      <th>1</th>\n",
       "      <td>合肥</td>\n",
       "      <td>龙岗-临泉东路和王岗大道交叉口东南角</td>\n",
       "      <td>90㎡</td>\n",
       "      <td>中层（共18层）</td>\n",
       "      <td>圣地亚哥</td>\n",
       "      <td>128万</td>\n",
       "      <td>安徽</td>\n",
       "      <td>3室2厅</td>\n",
       "      <td>南北向</td>\n",
       "      <td>14222元/㎡</td>\n",
       "      <td>2013年建</td>\n",
       "    </tr>\n",
       "    <tr>\n",
       "      <th>2</th>\n",
       "      <td>合肥</td>\n",
       "      <td>生态公园-淮海大道与大众路交口</td>\n",
       "      <td>95㎡</td>\n",
       "      <td>中层（共18层）</td>\n",
       "      <td>正荣·悦都荟</td>\n",
       "      <td>132万</td>\n",
       "      <td>安徽</td>\n",
       "      <td>3室2厅</td>\n",
       "      <td>南向</td>\n",
       "      <td>13895元/㎡</td>\n",
       "      <td>2019年建</td>\n",
       "    </tr>\n",
       "    <tr>\n",
       "      <th>3</th>\n",
       "      <td>合肥</td>\n",
       "      <td>生态公园-淮海大道与大众路交口</td>\n",
       "      <td>95㎡</td>\n",
       "      <td>中层（共18层）</td>\n",
       "      <td>正荣·悦都荟</td>\n",
       "      <td>132万</td>\n",
       "      <td>安徽</td>\n",
       "      <td>3室2厅</td>\n",
       "      <td>南向</td>\n",
       "      <td>13895元/㎡</td>\n",
       "      <td>2019年建</td>\n",
       "    </tr>\n",
       "    <tr>\n",
       "      <th>4</th>\n",
       "      <td>合肥</td>\n",
       "      <td>撮镇-文一名门金隅裕溪路与东风大道交口</td>\n",
       "      <td>37㎡</td>\n",
       "      <td>中层（共22层）</td>\n",
       "      <td>文一名门金隅</td>\n",
       "      <td>32万</td>\n",
       "      <td>安徽</td>\n",
       "      <td>2室1厅</td>\n",
       "      <td>南北向</td>\n",
       "      <td>8649元/㎡</td>\n",
       "      <td>2017年建</td>\n",
       "    </tr>\n",
       "  </tbody>\n",
       "</table>\n",
       "</div>"
      ]
     },
     "execution_count": 11,
     "metadata": {},
     "output_type": "execute_result"
    }
   ],
   "execution_count": 11
  },
  {
   "metadata": {
    "ExecuteTime": {
     "end_time": "2025-07-25T15:15:31.599282Z",
     "start_time": "2025-07-25T15:15:31.506184Z"
    }
   },
   "cell_type": "code",
   "source": [
    "# 检查是否有重复值\n",
    "df.duplicated().sum()"
   ],
   "id": "86f71b8dd352ffe4",
   "outputs": [
    {
     "data": {
      "text/plain": [
       "np.int64(54585)"
      ]
     },
     "execution_count": 12,
     "metadata": {},
     "output_type": "execute_result"
    }
   ],
   "execution_count": 12
  },
  {
   "metadata": {
    "ExecuteTime": {
     "end_time": "2025-07-25T15:17:09.873938Z",
     "start_time": "2025-07-25T15:17:09.822748Z"
    }
   },
   "cell_type": "code",
   "source": [
    "# 删除重复数据\n",
    "df.drop_duplicates(inplace=True)\n",
    "print('number of records:',len(df))"
   ],
   "id": "bc8129bb7d6dcfb0",
   "outputs": [
    {
     "name": "stdout",
     "output_type": "stream",
     "text": [
      "number of records: 51533\n"
     ]
    }
   ],
   "execution_count": 14
  },
  {
   "metadata": {},
   "cell_type": "markdown",
   "source": "### 处理数据类型",
   "id": "17f6490a422fe141"
  },
  {
   "metadata": {
    "ExecuteTime": {
     "end_time": "2025-07-25T15:48:10.002539Z",
     "start_time": "2025-07-25T15:48:09.988541Z"
    }
   },
   "cell_type": "code",
   "source": [
    "# 面积的数据类型转换\n",
    "df['area'] = df['area'].str.replace('㎡','').astype(float)\n",
    "df.info()"
   ],
   "id": "2963bb7fc80bf07e",
   "outputs": [
    {
     "name": "stdout",
     "output_type": "stream",
     "text": [
      "<class 'pandas.core.frame.DataFrame'>\n",
      "Index: 28104 entries, 0 to 106088\n",
      "Data columns (total 11 columns):\n",
      " #   Column    Non-Null Count  Dtype  \n",
      "---  ------    --------------  -----  \n",
      " 0   city      28104 non-null  object \n",
      " 1   address   28104 non-null  object \n",
      " 2   area      28104 non-null  float64\n",
      " 3   floor     28104 non-null  object \n",
      " 4   name      28104 non-null  object \n",
      " 5   price     28104 non-null  object \n",
      " 6   province  28104 non-null  object \n",
      " 7   rooms     28104 non-null  object \n",
      " 8   toward    28104 non-null  object \n",
      " 9   unit      28104 non-null  object \n",
      " 10  year      28104 non-null  object \n",
      "dtypes: float64(1), object(10)\n",
      "memory usage: 2.6+ MB\n"
     ]
    }
   ],
   "execution_count": 57
  },
  {
   "metadata": {
    "ExecuteTime": {
     "end_time": "2025-07-25T15:51:44.818756Z",
     "start_time": "2025-07-25T15:51:44.797619Z"
    }
   },
   "cell_type": "code",
   "source": [
    "# 售价的数据类型转换\n",
    "df['price'] = df['price'].str.replace('万','').astype(float)\n",
    "df.info()"
   ],
   "id": "aa5fac7cf169a537",
   "outputs": [
    {
     "name": "stdout",
     "output_type": "stream",
     "text": [
      "<class 'pandas.core.frame.DataFrame'>\n",
      "Index: 28104 entries, 0 to 106088\n",
      "Data columns (total 11 columns):\n",
      " #   Column    Non-Null Count  Dtype  \n",
      "---  ------    --------------  -----  \n",
      " 0   city      28104 non-null  object \n",
      " 1   address   28104 non-null  object \n",
      " 2   area      28104 non-null  float64\n",
      " 3   floor     28104 non-null  object \n",
      " 4   name      28104 non-null  object \n",
      " 5   price     28104 non-null  float64\n",
      " 6   province  28104 non-null  object \n",
      " 7   rooms     28104 non-null  object \n",
      " 8   toward    28104 non-null  object \n",
      " 9   unit      28104 non-null  object \n",
      " 10  year      28104 non-null  object \n",
      "dtypes: float64(2), object(9)\n",
      "memory usage: 2.6+ MB\n"
     ]
    }
   ],
   "execution_count": 60
  },
  {
   "metadata": {
    "ExecuteTime": {
     "end_time": "2025-07-25T15:53:12.132711Z",
     "start_time": "2025-07-25T15:53:12.121912Z"
    }
   },
   "cell_type": "code",
   "source": "df.head()",
   "id": "eb2c2e86bb3851be",
   "outputs": [
    {
     "data": {
      "text/plain": [
       "  city                       address   area     floor    name  price province  \\\n",
       "0   合肥            龙岗-临泉东路和王岗大道交叉口东南角   90.0  中层（共18层）    圣地亚哥  128.0       安徽   \n",
       "2   合肥               生态公园-淮海大道与大众路交口   95.0  中层（共18层）  正荣·悦都荟  132.0       安徽   \n",
       "4   合肥           撮镇-文一名门金隅裕溪路与东风大道交口   37.0  中层（共22层）  文一名门金隅   32.0       安徽   \n",
       "6   合肥                 龙岗-长江东路与和县里交口   50.0  高层（共30层）    柏庄金座   46.0       安徽   \n",
       "8   合肥  新亚汽车站-张洼路与临泉路交汇处向北100米(原红星机械  120.0  中层（共27层）    天目未来  158.0       安徽   \n",
       "\n",
       "  rooms toward      unit    year  \n",
       "0  3室2厅    南北向  14222元/㎡  2013年建  \n",
       "2  3室2厅     南向  13895元/㎡  2019年建  \n",
       "4  2室1厅    南北向   8649元/㎡  2017年建  \n",
       "6  2室1厅     南向   9200元/㎡  2019年建  \n",
       "8  4室2厅     南向  13167元/㎡  2012年建  "
      ],
      "text/html": [
       "<div>\n",
       "<style scoped>\n",
       "    .dataframe tbody tr th:only-of-type {\n",
       "        vertical-align: middle;\n",
       "    }\n",
       "\n",
       "    .dataframe tbody tr th {\n",
       "        vertical-align: top;\n",
       "    }\n",
       "\n",
       "    .dataframe thead th {\n",
       "        text-align: right;\n",
       "    }\n",
       "</style>\n",
       "<table border=\"1\" class=\"dataframe\">\n",
       "  <thead>\n",
       "    <tr style=\"text-align: right;\">\n",
       "      <th></th>\n",
       "      <th>city</th>\n",
       "      <th>address</th>\n",
       "      <th>area</th>\n",
       "      <th>floor</th>\n",
       "      <th>name</th>\n",
       "      <th>price</th>\n",
       "      <th>province</th>\n",
       "      <th>rooms</th>\n",
       "      <th>toward</th>\n",
       "      <th>unit</th>\n",
       "      <th>year</th>\n",
       "    </tr>\n",
       "  </thead>\n",
       "  <tbody>\n",
       "    <tr>\n",
       "      <th>0</th>\n",
       "      <td>合肥</td>\n",
       "      <td>龙岗-临泉东路和王岗大道交叉口东南角</td>\n",
       "      <td>90.0</td>\n",
       "      <td>中层（共18层）</td>\n",
       "      <td>圣地亚哥</td>\n",
       "      <td>128.0</td>\n",
       "      <td>安徽</td>\n",
       "      <td>3室2厅</td>\n",
       "      <td>南北向</td>\n",
       "      <td>14222元/㎡</td>\n",
       "      <td>2013年建</td>\n",
       "    </tr>\n",
       "    <tr>\n",
       "      <th>2</th>\n",
       "      <td>合肥</td>\n",
       "      <td>生态公园-淮海大道与大众路交口</td>\n",
       "      <td>95.0</td>\n",
       "      <td>中层（共18层）</td>\n",
       "      <td>正荣·悦都荟</td>\n",
       "      <td>132.0</td>\n",
       "      <td>安徽</td>\n",
       "      <td>3室2厅</td>\n",
       "      <td>南向</td>\n",
       "      <td>13895元/㎡</td>\n",
       "      <td>2019年建</td>\n",
       "    </tr>\n",
       "    <tr>\n",
       "      <th>4</th>\n",
       "      <td>合肥</td>\n",
       "      <td>撮镇-文一名门金隅裕溪路与东风大道交口</td>\n",
       "      <td>37.0</td>\n",
       "      <td>中层（共22层）</td>\n",
       "      <td>文一名门金隅</td>\n",
       "      <td>32.0</td>\n",
       "      <td>安徽</td>\n",
       "      <td>2室1厅</td>\n",
       "      <td>南北向</td>\n",
       "      <td>8649元/㎡</td>\n",
       "      <td>2017年建</td>\n",
       "    </tr>\n",
       "    <tr>\n",
       "      <th>6</th>\n",
       "      <td>合肥</td>\n",
       "      <td>龙岗-长江东路与和县里交口</td>\n",
       "      <td>50.0</td>\n",
       "      <td>高层（共30层）</td>\n",
       "      <td>柏庄金座</td>\n",
       "      <td>46.0</td>\n",
       "      <td>安徽</td>\n",
       "      <td>2室1厅</td>\n",
       "      <td>南向</td>\n",
       "      <td>9200元/㎡</td>\n",
       "      <td>2019年建</td>\n",
       "    </tr>\n",
       "    <tr>\n",
       "      <th>8</th>\n",
       "      <td>合肥</td>\n",
       "      <td>新亚汽车站-张洼路与临泉路交汇处向北100米(原红星机械</td>\n",
       "      <td>120.0</td>\n",
       "      <td>中层（共27层）</td>\n",
       "      <td>天目未来</td>\n",
       "      <td>158.0</td>\n",
       "      <td>安徽</td>\n",
       "      <td>4室2厅</td>\n",
       "      <td>南向</td>\n",
       "      <td>13167元/㎡</td>\n",
       "      <td>2012年建</td>\n",
       "    </tr>\n",
       "  </tbody>\n",
       "</table>\n",
       "</div>"
      ]
     },
     "execution_count": 61,
     "metadata": {},
     "output_type": "execute_result"
    }
   ],
   "execution_count": 61
  },
  {
   "metadata": {
    "ExecuteTime": {
     "end_time": "2025-07-25T15:56:24.811184Z",
     "start_time": "2025-07-25T15:56:24.803677Z"
    }
   },
   "cell_type": "code",
   "source": [
    "# 朝向的数据类型转换\n",
    "df['toward'] = df['toward'].astype('category')\n",
    "df['toward'].value_counts()"
   ],
   "id": "1aeca5e26efbfadf",
   "outputs": [
    {
     "data": {
      "text/plain": [
       "toward\n",
       "南北向    15946\n",
       "南向      9405\n",
       "东南向     1114\n",
       "东向       448\n",
       "西南向      308\n",
       "北向       276\n",
       "西向       182\n",
       "东西向      162\n",
       "西北向      138\n",
       "东北向      125\n",
       "Name: count, dtype: int64"
      ]
     },
     "execution_count": 65,
     "metadata": {},
     "output_type": "execute_result"
    }
   ],
   "execution_count": 65
  },
  {
   "metadata": {
    "ExecuteTime": {
     "end_time": "2025-07-25T15:59:12.609599Z",
     "start_time": "2025-07-25T15:59:12.606505Z"
    }
   },
   "cell_type": "code",
   "source": [
    "# 单价的数据类型转换\n",
    "df['unit'] = df['unit'].str.replace('元/㎡','').astype(float)"
   ],
   "id": "10d817fa7868024a",
   "outputs": [],
   "execution_count": 67
  },
  {
   "metadata": {
    "ExecuteTime": {
     "end_time": "2025-07-25T16:00:39.494639Z",
     "start_time": "2025-07-25T16:00:39.470880Z"
    }
   },
   "cell_type": "code",
   "source": [
    "# 建造年份的数据类型转换\n",
    "df['year'] = df['year'].str.replace('年建','').astype(int)\n",
    "df.info()"
   ],
   "id": "3ccbf18303a53de0",
   "outputs": [
    {
     "name": "stdout",
     "output_type": "stream",
     "text": [
      "<class 'pandas.core.frame.DataFrame'>\n",
      "Index: 28104 entries, 0 to 106088\n",
      "Data columns (total 11 columns):\n",
      " #   Column    Non-Null Count  Dtype   \n",
      "---  ------    --------------  -----   \n",
      " 0   city      28104 non-null  object  \n",
      " 1   address   28104 non-null  object  \n",
      " 2   area      28104 non-null  float64 \n",
      " 3   floor     28104 non-null  object  \n",
      " 4   name      28104 non-null  object  \n",
      " 5   price     28104 non-null  float64 \n",
      " 6   province  28104 non-null  object  \n",
      " 7   rooms     28104 non-null  object  \n",
      " 8   toward    28104 non-null  category\n",
      " 9   unit      28104 non-null  float64 \n",
      " 10  year      28104 non-null  int64   \n",
      "dtypes: category(1), float64(3), int64(1), object(6)\n",
      "memory usage: 2.4+ MB\n"
     ]
    }
   ],
   "execution_count": 68
  },
  {
   "metadata": {},
   "cell_type": "markdown",
   "source": "### 处理异常值",
   "id": "2c8506274ad72d2"
  },
  {
   "metadata": {
    "ExecuteTime": {
     "end_time": "2025-07-25T16:08:38.069001Z",
     "start_time": "2025-07-25T16:08:38.061149Z"
    }
   },
   "cell_type": "code",
   "source": [
    "# 房屋面积的异常处理\n",
    "df = df[(df['area']<600) & (df['area']>20)]\n",
    "print(len(df))"
   ],
   "id": "48e13f7b409899c2",
   "outputs": [
    {
     "name": "stdout",
     "output_type": "stream",
     "text": [
      "28079\n"
     ]
    }
   ],
   "execution_count": 73
  },
  {
   "metadata": {
    "ExecuteTime": {
     "end_time": "2025-07-25T16:14:05.927949Z",
     "start_time": "2025-07-25T16:14:05.914646Z"
    }
   },
   "cell_type": "code",
   "source": [
    "# 房屋售价的异常处理 IQR\n",
    "Q1 = df['price'].quantile(0.25)\n",
    "Q3 = df['price'].quantile(0.75)\n",
    "IQR = Q3 - Q1\n",
    "low = Q1 - 1.5*IQR\n",
    "high = Q3 + 1.5*IQR\n",
    "print(f'low:{low} , high:{high}')\n",
    "df = df[(df['price']>low) & (df['price']<high)]\n",
    "print(len(df))"
   ],
   "id": "7a6acc9bff48ff3c",
   "outputs": [
    {
     "name": "stdout",
     "output_type": "stream",
     "text": [
      "low:-45.0 , high:267.0\n",
      "25382\n"
     ]
    }
   ],
   "execution_count": 77
  },
  {
   "metadata": {},
   "cell_type": "markdown",
   "source": "## 5.新数据特征的构造",
   "id": "857ce47d68a77f97"
  },
  {
   "metadata": {
    "ExecuteTime": {
     "end_time": "2025-07-25T17:24:15.608316Z",
     "start_time": "2025-07-25T17:24:15.582496Z"
    }
   },
   "cell_type": "code",
   "source": [
    "# district\n",
    "df['district'] = df['address'].str.split('-').str[0]"
   ],
   "id": "f74b6a7e6b73a261",
   "outputs": [],
   "execution_count": 79
  },
  {
   "metadata": {
    "ExecuteTime": {
     "end_time": "2025-07-25T17:27:17.169439Z",
     "start_time": "2025-07-25T17:27:17.142836Z"
    }
   },
   "cell_type": "code",
   "source": [
    "# floor_type\n",
    "df['floor_type'] = df['floor'].str.split('（').str[0].astype('category')"
   ],
   "id": "bad74b3773c61c9",
   "outputs": [],
   "execution_count": 81
  },
  {
   "metadata": {
    "ExecuteTime": {
     "end_time": "2025-07-25T17:35:54.833270Z",
     "start_time": "2025-07-25T17:35:54.819062Z"
    }
   },
   "cell_type": "code",
   "source": [
    "# 直辖市 zxs\n",
    "df['zxs'] = df['city'].str.contains('北京|上海|重庆|天津')\n",
    "print(sum(df['zxs']))"
   ],
   "id": "a76852391ec58c87",
   "outputs": [
    {
     "name": "stdout",
     "output_type": "stream",
     "text": [
      "215\n"
     ]
    }
   ],
   "execution_count": 88
  },
  {
   "metadata": {
    "ExecuteTime": {
     "end_time": "2025-07-25T17:38:12.335266Z",
     "start_time": "2025-07-25T17:38:12.312810Z"
    }
   },
   "cell_type": "code",
   "source": [
    "# bedrooms\n",
    "df['bedrooms'] = df['rooms'].str.split('室').str[0].astype(int)"
   ],
   "id": "694828a9ecc7b013",
   "outputs": [],
   "execution_count": 90
  },
  {
   "metadata": {
    "ExecuteTime": {
     "end_time": "2025-07-25T18:18:25.064863Z",
     "start_time": "2025-07-25T18:18:25.040356Z"
    }
   },
   "cell_type": "code",
   "source": [
    "# livingrooms\n",
    "df['livingrooms'] = df['rooms'].str.extract(r'(\\d+)厅').astype(int)"
   ],
   "id": "33039b2d81f8529b",
   "outputs": [],
   "execution_count": 94
  },
  {
   "metadata": {
    "ExecuteTime": {
     "end_time": "2025-07-25T18:20:39.838727Z",
     "start_time": "2025-07-25T18:20:39.833507Z"
    }
   },
   "cell_type": "code",
   "source": [
    "# building_age\n",
    "df['building_age'] = 2025 - df['year']"
   ],
   "id": "b73f1425b58201e1",
   "outputs": [],
   "execution_count": 96
  },
  {
   "metadata": {
    "ExecuteTime": {
     "end_time": "2025-07-25T18:23:28.384222Z",
     "start_time": "2025-07-25T18:23:28.374323Z"
    }
   },
   "cell_type": "code",
   "source": [
    "# price_level\n",
    "df['price_level'] = pd.cut(df['price'], bins=4, labels=['低价','中价','高价','豪华'])"
   ],
   "id": "354b9f3a336a83c9",
   "outputs": [],
   "execution_count": 98
  },
  {
   "metadata": {
    "ExecuteTime": {
     "end_time": "2025-07-25T18:25:10.591512Z",
     "start_time": "2025-07-25T18:25:10.584377Z"
    }
   },
   "cell_type": "code",
   "source": "print(len(df[df['price_level']=='豪华']))",
   "id": "5fbb32019eb13611",
   "outputs": [
    {
     "name": "stdout",
     "output_type": "stream",
     "text": [
      "2100\n"
     ]
    }
   ],
   "execution_count": 101
  },
  {
   "metadata": {
    "ExecuteTime": {
     "end_time": "2025-07-25T18:23:34.982991Z",
     "start_time": "2025-07-25T18:23:34.956361Z"
    }
   },
   "cell_type": "code",
   "source": "df.sample(5)",
   "id": "1bf19b228a27b16c",
   "outputs": [
    {
     "data": {
      "text/plain": [
       "       city                  address   area     floor      name  price  \\\n",
       "93404    南充               北干道-北干道锦亭路   80.0   高层（共6层）        境界   52.6   \n",
       "8608     兰州       五泉广场-火车站西路551-553号  120.0   中层（共8层）  五泉电信局家属院  128.0   \n",
       "101632   邕宁          仙葫经济开发区-仙葫大道中9号  118.7  高层（共18层）    天池山·中脊  103.0   \n",
       "41766    蚌埠         万达广场-东海大道与延安路交汇处  120.0  中层（共34层）  蚌埠新地城市广场  105.0   \n",
       "15670    中山  中山港-九沙路7号(东镇东一路与九沙路交汇处)   88.0  中层（共33层）       泰瑞居   93.0   \n",
       "\n",
       "       province rooms toward     unit  year district floor_type    zxs  \\\n",
       "93404        四川  3室2厅    东南向   6575.0  2015      北干道         高层  False   \n",
       "8608         甘肃  2室2厅    西南向  10667.0  2010     五泉广场         中层  False   \n",
       "101632       广西  3室2厅    南北向   8677.0  2011  仙葫经济开发区         高层  False   \n",
       "41766        安徽  4室2厅    南北向   8750.0  2015     万达广场         中层  False   \n",
       "15670        广东  3室2厅    南北向  10568.0  2019      中山港         中层  False   \n",
       "\n",
       "        bedrooms  livingrooms  building_age price_level  \n",
       "93404          3            2            10          低价  \n",
       "8608           2            2            15          中价  \n",
       "101632         3            2            14          中价  \n",
       "41766          4            2            10          中价  \n",
       "15670          3            2             6          中价  "
      ],
      "text/html": [
       "<div>\n",
       "<style scoped>\n",
       "    .dataframe tbody tr th:only-of-type {\n",
       "        vertical-align: middle;\n",
       "    }\n",
       "\n",
       "    .dataframe tbody tr th {\n",
       "        vertical-align: top;\n",
       "    }\n",
       "\n",
       "    .dataframe thead th {\n",
       "        text-align: right;\n",
       "    }\n",
       "</style>\n",
       "<table border=\"1\" class=\"dataframe\">\n",
       "  <thead>\n",
       "    <tr style=\"text-align: right;\">\n",
       "      <th></th>\n",
       "      <th>city</th>\n",
       "      <th>address</th>\n",
       "      <th>area</th>\n",
       "      <th>floor</th>\n",
       "      <th>name</th>\n",
       "      <th>price</th>\n",
       "      <th>province</th>\n",
       "      <th>rooms</th>\n",
       "      <th>toward</th>\n",
       "      <th>unit</th>\n",
       "      <th>year</th>\n",
       "      <th>district</th>\n",
       "      <th>floor_type</th>\n",
       "      <th>zxs</th>\n",
       "      <th>bedrooms</th>\n",
       "      <th>livingrooms</th>\n",
       "      <th>building_age</th>\n",
       "      <th>price_level</th>\n",
       "    </tr>\n",
       "  </thead>\n",
       "  <tbody>\n",
       "    <tr>\n",
       "      <th>93404</th>\n",
       "      <td>南充</td>\n",
       "      <td>北干道-北干道锦亭路</td>\n",
       "      <td>80.0</td>\n",
       "      <td>高层（共6层）</td>\n",
       "      <td>境界</td>\n",
       "      <td>52.6</td>\n",
       "      <td>四川</td>\n",
       "      <td>3室2厅</td>\n",
       "      <td>东南向</td>\n",
       "      <td>6575.0</td>\n",
       "      <td>2015</td>\n",
       "      <td>北干道</td>\n",
       "      <td>高层</td>\n",
       "      <td>False</td>\n",
       "      <td>3</td>\n",
       "      <td>2</td>\n",
       "      <td>10</td>\n",
       "      <td>低价</td>\n",
       "    </tr>\n",
       "    <tr>\n",
       "      <th>8608</th>\n",
       "      <td>兰州</td>\n",
       "      <td>五泉广场-火车站西路551-553号</td>\n",
       "      <td>120.0</td>\n",
       "      <td>中层（共8层）</td>\n",
       "      <td>五泉电信局家属院</td>\n",
       "      <td>128.0</td>\n",
       "      <td>甘肃</td>\n",
       "      <td>2室2厅</td>\n",
       "      <td>西南向</td>\n",
       "      <td>10667.0</td>\n",
       "      <td>2010</td>\n",
       "      <td>五泉广场</td>\n",
       "      <td>中层</td>\n",
       "      <td>False</td>\n",
       "      <td>2</td>\n",
       "      <td>2</td>\n",
       "      <td>15</td>\n",
       "      <td>中价</td>\n",
       "    </tr>\n",
       "    <tr>\n",
       "      <th>101632</th>\n",
       "      <td>邕宁</td>\n",
       "      <td>仙葫经济开发区-仙葫大道中9号</td>\n",
       "      <td>118.7</td>\n",
       "      <td>高层（共18层）</td>\n",
       "      <td>天池山·中脊</td>\n",
       "      <td>103.0</td>\n",
       "      <td>广西</td>\n",
       "      <td>3室2厅</td>\n",
       "      <td>南北向</td>\n",
       "      <td>8677.0</td>\n",
       "      <td>2011</td>\n",
       "      <td>仙葫经济开发区</td>\n",
       "      <td>高层</td>\n",
       "      <td>False</td>\n",
       "      <td>3</td>\n",
       "      <td>2</td>\n",
       "      <td>14</td>\n",
       "      <td>中价</td>\n",
       "    </tr>\n",
       "    <tr>\n",
       "      <th>41766</th>\n",
       "      <td>蚌埠</td>\n",
       "      <td>万达广场-东海大道与延安路交汇处</td>\n",
       "      <td>120.0</td>\n",
       "      <td>中层（共34层）</td>\n",
       "      <td>蚌埠新地城市广场</td>\n",
       "      <td>105.0</td>\n",
       "      <td>安徽</td>\n",
       "      <td>4室2厅</td>\n",
       "      <td>南北向</td>\n",
       "      <td>8750.0</td>\n",
       "      <td>2015</td>\n",
       "      <td>万达广场</td>\n",
       "      <td>中层</td>\n",
       "      <td>False</td>\n",
       "      <td>4</td>\n",
       "      <td>2</td>\n",
       "      <td>10</td>\n",
       "      <td>中价</td>\n",
       "    </tr>\n",
       "    <tr>\n",
       "      <th>15670</th>\n",
       "      <td>中山</td>\n",
       "      <td>中山港-九沙路7号(东镇东一路与九沙路交汇处)</td>\n",
       "      <td>88.0</td>\n",
       "      <td>中层（共33层）</td>\n",
       "      <td>泰瑞居</td>\n",
       "      <td>93.0</td>\n",
       "      <td>广东</td>\n",
       "      <td>3室2厅</td>\n",
       "      <td>南北向</td>\n",
       "      <td>10568.0</td>\n",
       "      <td>2019</td>\n",
       "      <td>中山港</td>\n",
       "      <td>中层</td>\n",
       "      <td>False</td>\n",
       "      <td>3</td>\n",
       "      <td>2</td>\n",
       "      <td>6</td>\n",
       "      <td>中价</td>\n",
       "    </tr>\n",
       "  </tbody>\n",
       "</table>\n",
       "</div>"
      ]
     },
     "execution_count": 99,
     "metadata": {},
     "output_type": "execute_result"
    }
   ],
   "execution_count": 99
  },
  {
   "metadata": {},
   "cell_type": "markdown",
   "source": "## 6.问题分析及可视化",
   "id": "2a8e061f74c97275"
  },
  {
   "metadata": {},
   "cell_type": "markdown",
   "source": "### 问题1：哪些变量最影响房价？面积、楼层、房间数哪个影响更大？",
   "id": "9a5ad4179fe7e0be"
  },
  {
   "metadata": {},
   "cell_type": "code",
   "outputs": [],
   "execution_count": null,
   "source": [
    "'''\n",
    "问题编号: A1\n",
    "问题: 哪些变量最影响房价？面积、楼层、房间数哪个影响更大？\n",
    "分析主题: 特征相关性\n",
    "分析目标: 了解房屋各特征对房价的线性影响\n",
    "分组字段: 无\n",
    "指标/方法: 皮尔逊相关系数\n",
    "'''"
   ],
   "id": "c6b9c5e982111c6"
  },
  {
   "metadata": {
    "ExecuteTime": {
     "end_time": "2025-07-25T18:38:35.143417Z",
     "start_time": "2025-07-25T18:38:35.129704Z"
    }
   },
   "cell_type": "code",
   "source": [
    "alpha = df[['price','area','unit','bedrooms','livingrooms','building_age']].corr()\n",
    "alpha['price'].sort_values(ascending=False)\n",
    "print(alpha)"
   ],
   "id": "65bc82b4634893e7",
   "outputs": [
    {
     "name": "stdout",
     "output_type": "stream",
     "text": [
      "                 price      area      unit  bedrooms  livingrooms  \\\n",
      "price         1.000000  0.437029  0.730997  0.321870     0.203615   \n",
      "area          0.437029  1.000000 -0.201596  0.770138     0.502313   \n",
      "unit          0.730997 -0.201596  1.000000 -0.179784    -0.155558   \n",
      "bedrooms      0.321870  0.770138 -0.179784  1.000000     0.506110   \n",
      "livingrooms   0.203615  0.502313 -0.155558  0.506110     1.000000   \n",
      "building_age  0.087499 -0.087509  0.197860 -0.130630    -0.201752   \n",
      "\n",
      "              building_age  \n",
      "price             0.087499  \n",
      "area             -0.087509  \n",
      "unit              0.197860  \n",
      "bedrooms         -0.130630  \n",
      "livingrooms      -0.201752  \n",
      "building_age      1.000000  \n"
     ]
    }
   ],
   "execution_count": 102
  },
  {
   "metadata": {
    "ExecuteTime": {
     "end_time": "2025-07-25T18:41:23.862812Z",
     "start_time": "2025-07-25T18:41:23.655038Z"
    }
   },
   "cell_type": "code",
   "source": [
    "plt.figure(figsize=(5,5))\n",
    "sns.heatmap(alpha,cmap='coolwarm',annot=True)\n",
    "plt.title('房屋特征相关性热力图')\n",
    "plt.tight_layout()"
   ],
   "id": "8a7a6c1a51fd8241",
   "outputs": [
    {
     "data": {
      "text/plain": [
       "<Figure size 500x500 with 2 Axes>"
      ],
      "image/png": "[encoded data removed]"
     },
     "metadata": {},
     "output_type": "display_data"
    }
   ],
   "execution_count": 105
  },
  {
   "metadata": {},
   "cell_type": "markdown",
   "source": "### 问题2：全国房价总体分布是怎样的？是否存在极端值？",
   "id": "8761b8adb000cf47"
  },
  {
   "metadata": {},
   "cell_type": "code",
   "outputs": [],
   "execution_count": null,
   "source": [
    "'''\n",
    "问题编号: A2\n",
    "问题: 全国房价总体分布是怎样的？是否存在极端值？\n",
    "分析主题: 描述性统计\n",
    "分析目标: 概览数值型字段的分布特征\n",
    "分组字段: 无\n",
    "指标/方法: 平均数/中位数/四分位数/标准差\n",
    "'''"
   ],
   "id": "cb108b1074c95cf2"
  },
  {
   "metadata": {
    "ExecuteTime": {
     "end_time": "2025-07-25T18:45:49.539082Z",
     "start_time": "2025-07-25T18:45:49.512907Z"
    }
   },
   "cell_type": "code",
   "source": "df.describe()",
   "id": "759b0f26bb02523",
   "outputs": [
    {
     "data": {
      "text/plain": [
       "               area         price          unit          year      bedrooms  \\\n",
       "count  25382.000000  25382.000000  25382.000000  25382.000000  25382.000000   \n",
       "mean     102.683130    112.218826  11273.759869   2013.105468      2.697305   \n",
       "std       32.827656     54.400754   5354.765656      6.024982      0.791970   \n",
       "min       21.000000      9.000000   1000.000000   1976.000000      0.000000   \n",
       "25%       85.000000     70.307500   7520.250000   2011.000000      2.000000   \n",
       "50%       99.000000    100.000000  10151.000000   2015.000000      3.000000   \n",
       "75%      122.000000    145.000000  13846.000000   2017.000000      3.000000   \n",
       "max      470.000000    266.300000  85288.000000   2023.000000      9.000000   \n",
       "\n",
       "        livingrooms  building_age  \n",
       "count  25382.000000  25382.000000  \n",
       "mean       1.845205     11.894532  \n",
       "std        0.407410      6.024982  \n",
       "min        0.000000      2.000000  \n",
       "25%        2.000000      8.000000  \n",
       "50%        2.000000     10.000000  \n",
       "75%        2.000000     14.000000  \n",
       "max       12.000000     49.000000  "
      ],
      "text/html": [
       "<div>\n",
       "<style scoped>\n",
       "    .dataframe tbody tr th:only-of-type {\n",
       "        vertical-align: middle;\n",
       "    }\n",
       "\n",
       "    .dataframe tbody tr th {\n",
       "        vertical-align: top;\n",
       "    }\n",
       "\n",
       "    .dataframe thead th {\n",
       "        text-align: right;\n",
       "    }\n",
       "</style>\n",
       "<table border=\"1\" class=\"dataframe\">\n",
       "  <thead>\n",
       "    <tr style=\"text-align: right;\">\n",
       "      <th></th>\n",
       "      <th>area</th>\n",
       "      <th>price</th>\n",
       "      <th>unit</th>\n",
       "      <th>year</th>\n",
       "      <th>bedrooms</th>\n",
       "      <th>livingrooms</th>\n",
       "      <th>building_age</th>\n",
       "    </tr>\n",
       "  </thead>\n",
       "  <tbody>\n",
       "    <tr>\n",
       "      <th>count</th>\n",
       "      <td>25382.000000</td>\n",
       "      <td>25382.000000</td>\n",
       "      <td>25382.000000</td>\n",
       "      <td>25382.000000</td>\n",
       "      <td>25382.000000</td>\n",
       "      <td>25382.000000</td>\n",
       "      <td>25382.000000</td>\n",
       "    </tr>\n",
       "    <tr>\n",
       "      <th>mean</th>\n",
       "      <td>102.683130</td>\n",
       "      <td>112.218826</td>\n",
       "      <td>11273.759869</td>\n",
       "      <td>2013.105468</td>\n",
       "      <td>2.697305</td>\n",
       "      <td>1.845205</td>\n",
       "      <td>11.894532</td>\n",
       "    </tr>\n",
       "    <tr>\n",
       "      <th>std</th>\n",
       "      <td>32.827656</td>\n",
       "      <td>54.400754</td>\n",
       "      <td>5354.765656</td>\n",
       "      <td>6.024982</td>\n",
       "      <td>0.791970</td>\n",
       "      <td>0.407410</td>\n",
       "      <td>6.024982</td>\n",
       "    </tr>\n",
       "    <tr>\n",
       "      <th>min</th>\n",
       "      <td>21.000000</td>\n",
       "      <td>9.000000</td>\n",
       "      <td>1000.000000</td>\n",
       "      <td>1976.000000</td>\n",
       "      <td>0.000000</td>\n",
       "      <td>0.000000</td>\n",
       "      <td>2.000000</td>\n",
       "    </tr>\n",
       "    <tr>\n",
       "      <th>25%</th>\n",
       "      <td>85.000000</td>\n",
       "      <td>70.307500</td>\n",
       "      <td>7520.250000</td>\n",
       "      <td>2011.000000</td>\n",
       "      <td>2.000000</td>\n",
       "      <td>2.000000</td>\n",
       "      <td>8.000000</td>\n",
       "    </tr>\n",
       "    <tr>\n",
       "      <th>50%</th>\n",
       "      <td>99.000000</td>\n",
       "      <td>100.000000</td>\n",
       "      <td>10151.000000</td>\n",
       "      <td>2015.000000</td>\n",
       "      <td>3.000000</td>\n",
       "      <td>2.000000</td>\n",
       "      <td>10.000000</td>\n",
       "    </tr>\n",
       "    <tr>\n",
       "      <th>75%</th>\n",
       "      <td>122.000000</td>\n",
       "      <td>145.000000</td>\n",
       "      <td>13846.000000</td>\n",
       "      <td>2017.000000</td>\n",
       "      <td>3.000000</td>\n",
       "      <td>2.000000</td>\n",
       "      <td>14.000000</td>\n",
       "    </tr>\n",
       "    <tr>\n",
       "      <th>max</th>\n",
       "      <td>470.000000</td>\n",
       "      <td>266.300000</td>\n",
       "      <td>85288.000000</td>\n",
       "      <td>2023.000000</td>\n",
       "      <td>9.000000</td>\n",
       "      <td>12.000000</td>\n",
       "      <td>49.000000</td>\n",
       "    </tr>\n",
       "  </tbody>\n",
       "</table>\n",
       "</div>"
      ]
     },
     "execution_count": 106,
     "metadata": {},
     "output_type": "execute_result"
    }
   ],
   "execution_count": 106
  },
  {
   "metadata": {
    "ExecuteTime": {
     "end_time": "2025-07-25T18:48:42.975442Z",
     "start_time": "2025-07-25T18:48:42.888771Z"
    }
   },
   "cell_type": "code",
   "source": [
    "plt.hist(df['price'],bins=10)\n",
    "plt.title('房价分布直方图')\n",
    "plt.xlabel('价格')\n",
    "plt.ylabel('频数')\n",
    "plt.show()"
   ],
   "id": "e17b9af592a07382",
   "outputs": [
    {
     "data": {
      "text/plain": [
       "<Figure size 640x480 with 1 Axes>"
      ],
      "image/png": "[encoded data removed]"
     },
     "metadata": {},
     "output_type": "display_data"
    }
   ],
   "execution_count": 108
  },
  {
   "metadata": {
    "ExecuteTime": {
     "end_time": "2025-07-25T18:50:25.907264Z",
     "start_time": "2025-07-25T18:50:25.614746Z"
    }
   },
   "cell_type": "code",
   "source": "sns.histplot(data=df,x='price',bins=10,kde=True)",
   "id": "44807a50f89cea49",
   "outputs": [
    {
     "data": {
      "text/plain": [
       "<Axes: xlabel='price', ylabel='Count'>"
      ]
     },
     "execution_count": 109,
     "metadata": {},
     "output_type": "execute_result"
    },
    {
     "data": {
      "text/plain": [
       "<Figure size 640x480 with 1 Axes>"
      ],
      "image/png": "[encoded data removed]"
     },
     "metadata": {},
     "output_type": "display_data"
    }
   ],
   "execution_count": 109
  },
  {
   "metadata": {},
   "cell_type": "markdown",
   "source": "### 问题3：哪些城市房价最高？直辖市与非直辖市差异如何？",
   "id": "c2b6b5fecce67fe8"
  },
  {
   "metadata": {},
   "cell_type": "code",
   "outputs": [],
   "execution_count": null,
   "source": [
    "'''\n",
    "问题编号: A3\n",
    "问题: 哪些城市房价最高？直辖市与非直辖市差异如何？\n",
    "分析主题: 城市对比\n",
    "分析目标: 比较不同城市房价水平\n",
    "分组字段: city\n",
    "指标/方法: 均价/单价中位数/箱线图\n",
    "'''"
   ],
   "id": "bf15516c40990260"
  },
  {
   "metadata": {
    "ExecuteTime": {
     "end_time": "2025-07-25T20:47:14.742813Z",
     "start_time": "2025-07-25T20:47:14.720657Z"
    }
   },
   "cell_type": "code",
   "source": [
    "city_stats = df.groupby('city').agg({\n",
    "    'price':['mean','median','count','std'],\n",
    "    'unit':['mean','median','std']\n",
    "})\n",
    "\n",
    "display(city_stats.sort_values(('unit','mean'),ascending=False).head(10))"
   ],
   "id": "27b4f1d96bf27cd2",
   "outputs": [
    {
     "data": {
      "text/plain": [
       "           price                                  unit                       \n",
       "            mean median count        std          mean   median           std\n",
       "city                                                                         \n",
       "深圳    219.571429  228.0     7  29.832070  41859.428571  38012.0  11716.921138\n",
       "上海    172.206250  199.5    48  72.032721  25832.645833  26439.0  12425.395925\n",
       "福州    180.447619  185.0    42  52.949729  24473.642857  21869.5   8651.084161\n",
       "淳安    164.260000  188.5    30  65.186209  24298.000000  22601.0  10344.887086\n",
       "蓟州    178.643438  170.5    64  52.734045  24271.500000  20175.0  13903.277891\n",
       "厦门    190.966667  200.0    15  54.715650  23965.266667  25628.0   6462.351158\n",
       "桐庐    161.672564  175.0    39  68.054547  23774.205128  23263.0   8965.947081\n",
       "永泰    169.945455  174.5    44  51.031237  22960.704545  21349.0   8420.720802\n",
       "苏州    191.036207  196.0    58  41.822711  22837.637931  22109.0   4114.204511\n",
       "三亚    188.647059  190.0    34  42.003522  22732.441176  21236.5   4454.201225"
      ],
      "text/html": [
       "<div>\n",
       "<style scoped>\n",
       "    .dataframe tbody tr th:only-of-type {\n",
       "        vertical-align: middle;\n",
       "    }\n",
       "\n",
       "    .dataframe tbody tr th {\n",
       "        vertical-align: top;\n",
       "    }\n",
       "\n",
       "    .dataframe thead tr th {\n",
       "        text-align: left;\n",
       "    }\n",
       "\n",
       "    .dataframe thead tr:last-of-type th {\n",
       "        text-align: right;\n",
       "    }\n",
       "</style>\n",
       "<table border=\"1\" class=\"dataframe\">\n",
       "  <thead>\n",
       "    <tr>\n",
       "      <th></th>\n",
       "      <th colspan=\"4\" halign=\"left\">price</th>\n",
       "      <th colspan=\"3\" halign=\"left\">unit</th>\n",
       "    </tr>\n",
       "    <tr>\n",
       "      <th></th>\n",
       "      <th>mean</th>\n",
       "      <th>median</th>\n",
       "      <th>count</th>\n",
       "      <th>std</th>\n",
       "      <th>mean</th>\n",
       "      <th>median</th>\n",
       "      <th>std</th>\n",
       "    </tr>\n",
       "    <tr>\n",
       "      <th>city</th>\n",
       "      <th></th>\n",
       "      <th></th>\n",
       "      <th></th>\n",
       "      <th></th>\n",
       "      <th></th>\n",
       "      <th></th>\n",
       "      <th></th>\n",
       "    </tr>\n",
       "  </thead>\n",
       "  <tbody>\n",
       "    <tr>\n",
       "      <th>深圳</th>\n",
       "      <td>219.571429</td>\n",
       "      <td>228.0</td>\n",
       "      <td>7</td>\n",
       "      <td>29.832070</td>\n",
       "      <td>41859.428571</td>\n",
       "      <td>38012.0</td>\n",
       "      <td>11716.921138</td>\n",
       "    </tr>\n",
       "    <tr>\n",
       "      <th>上海</th>\n",
       "      <td>172.206250</td>\n",
       "      <td>199.5</td>\n",
       "      <td>48</td>\n",
       "      <td>72.032721</td>\n",
       "      <td>25832.645833</td>\n",
       "      <td>26439.0</td>\n",
       "      <td>12425.395925</td>\n",
       "    </tr>\n",
       "    <tr>\n",
       "      <th>福州</th>\n",
       "      <td>180.447619</td>\n",
       "      <td>185.0</td>\n",
       "      <td>42</td>\n",
       "      <td>52.949729</td>\n",
       "      <td>24473.642857</td>\n",
       "      <td>21869.5</td>\n",
       "      <td>8651.084161</td>\n",
       "    </tr>\n",
       "    <tr>\n",
       "      <th>淳安</th>\n",
       "      <td>164.260000</td>\n",
       "      <td>188.5</td>\n",
       "      <td>30</td>\n",
       "      <td>65.186209</td>\n",
       "      <td>24298.000000</td>\n",
       "      <td>22601.0</td>\n",
       "      <td>10344.887086</td>\n",
       "    </tr>\n",
       "    <tr>\n",
       "      <th>蓟州</th>\n",
       "      <td>178.643438</td>\n",
       "      <td>170.5</td>\n",
       "      <td>64</td>\n",
       "      <td>52.734045</td>\n",
       "      <td>24271.500000</td>\n",
       "      <td>20175.0</td>\n",
       "      <td>13903.277891</td>\n",
       "    </tr>\n",
       "    <tr>\n",
       "      <th>厦门</th>\n",
       "      <td>190.966667</td>\n",
       "      <td>200.0</td>\n",
       "      <td>15</td>\n",
       "      <td>54.715650</td>\n",
       "      <td>23965.266667</td>\n",
       "      <td>25628.0</td>\n",
       "      <td>6462.351158</td>\n",
       "    </tr>\n",
       "    <tr>\n",
       "      <th>桐庐</th>\n",
       "      <td>161.672564</td>\n",
       "      <td>175.0</td>\n",
       "      <td>39</td>\n",
       "      <td>68.054547</td>\n",
       "      <td>23774.205128</td>\n",
       "      <td>23263.0</td>\n",
       "      <td>8965.947081</td>\n",
       "    </tr>\n",
       "    <tr>\n",
       "      <th>永泰</th>\n",
       "      <td>169.945455</td>\n",
       "      <td>174.5</td>\n",
       "      <td>44</td>\n",
       "      <td>51.031237</td>\n",
       "      <td>22960.704545</td>\n",
       "      <td>21349.0</td>\n",
       "      <td>8420.720802</td>\n",
       "    </tr>\n",
       "    <tr>\n",
       "      <th>苏州</th>\n",
       "      <td>191.036207</td>\n",
       "      <td>196.0</td>\n",
       "      <td>58</td>\n",
       "      <td>41.822711</td>\n",
       "      <td>22837.637931</td>\n",
       "      <td>22109.0</td>\n",
       "      <td>4114.204511</td>\n",
       "    </tr>\n",
       "    <tr>\n",
       "      <th>三亚</th>\n",
       "      <td>188.647059</td>\n",
       "      <td>190.0</td>\n",
       "      <td>34</td>\n",
       "      <td>42.003522</td>\n",
       "      <td>22732.441176</td>\n",
       "      <td>21236.5</td>\n",
       "      <td>4454.201225</td>\n",
       "    </tr>\n",
       "  </tbody>\n",
       "</table>\n",
       "</div>"
      ]
     },
     "metadata": {},
     "output_type": "display_data"
    }
   ],
   "execution_count": 126
  },
  {
   "metadata": {
    "ExecuteTime": {
     "end_time": "2025-07-25T21:01:11.683829Z",
     "start_time": "2025-07-25T21:01:11.541526Z"
    }
   },
   "cell_type": "code",
   "source": [
    "top10 = city_stats.sort_values(('unit','mean'),ascending=False).head(10).index\n",
    "df_top = df[df['city'].isin(top10)]\n",
    "\n",
    "plt.figure(figsize=(8,6))\n",
    "sns.boxplot(x='city',y='price',data=df_top,order=top10)  # order是横轴从左至右的顺序\n",
    "plt.title('TOP10城市房价分布对比')\n",
    "plt.xlabel('城市')\n",
    "plt.ylabel('价格(元)')\n",
    "plt.xticks(rotation=45)\n",
    "plt.tight_layout()\n",
    "plt.show()\n"
   ],
   "id": "57bf5af15b696e0b",
   "outputs": [
    {
     "data": {
      "text/plain": [
       "<Figure size 800x600 with 1 Axes>"
      ],
      "image/png": "[encoded data removed]"
     },
     "metadata": {},
     "output_type": "display_data"
    }
   ],
   "execution_count": 143
  },
  {
   "metadata": {
    "ExecuteTime": {
     "end_time": "2025-07-25T21:26:39.662623Z",
     "start_time": "2025-07-25T21:26:39.547172Z"
    }
   },
   "cell_type": "code",
   "source": [
    "plt.title('直辖市与非直辖市房价对比')\n",
    "sns.barplot(x='zxs',y='price',data=df,estimator='mean',errorbar=None,width=0.4,color=(0.2,0.8,0.7))\n",
    "plt.show()"
   ],
   "id": "88a97810ef52590f",
   "outputs": [
    {
     "data": {
      "text/plain": [
       "<Figure size 640x480 with 1 Axes>"
      ],
      "image/png": "[encoded data removed]"
     },
     "metadata": {},
     "output_type": "display_data"
    }
   ],
   "execution_count": 168
  },
  {
   "metadata": {},
   "cell_type": "markdown",
   "source": "### 问题4：高价房在面积、楼层等方面有什么特征？",
   "id": "8e858cb1e569359d"
  },
  {
   "metadata": {},
   "cell_type": "code",
   "outputs": [],
   "execution_count": null,
   "source": [
    "'''\n",
    "问题编号: A4\n",
    "问题: 高价房在面积、楼层等方面有什么特征？\n",
    "分析主题: 价格分层\n",
    "分析目标: 识别不同价位房屋特征差异\n",
    "分组字段: 价格分段(低中高)\n",
    "指标/方法: 列联表/卡方检验\n",
    "'''\n",
    "\"\"\"A4 价格分层特征差异分析\"\"\""
   ],
   "id": "f8394fe0b183a362"
  },
  {
   "metadata": {
    "ExecuteTime": {
     "end_time": "2025-07-25T23:57:46.385255Z",
     "start_time": "2025-07-25T23:57:46.352159Z"
    }
   },
   "cell_type": "code",
   "source": [
    "price_group = df.groupby('price_level',observed=True).agg({\n",
    "    'area':['mean','median','std'],\n",
    "    'unit':['mean','median','std'],\n",
    "    'bedrooms':['mean','median','std'],\n",
    "    'livingrooms':['mean','median','std'],\n",
    "    'building_age':['mean','median','std']\n",
    "})\n",
    "display(price_group.round(2))"
   ],
   "id": "eb63979578762b09",
   "outputs": [
    {
     "data": {
      "text/plain": [
       "               area                    unit                   bedrooms         \\\n",
       "               mean median    std      mean   median      std     mean median   \n",
       "price_level                                                                     \n",
       "低价            83.49   86.0  28.73   7178.18   6667.0  2725.54     2.33    2.0   \n",
       "中价           103.72  100.0  26.38  10444.36   9835.0  3307.28     2.74    3.0   \n",
       "高价           115.82  115.0  33.77  15390.56  14471.0  4964.96     2.92    3.0   \n",
       "豪华           129.01  128.0  38.72  19436.35  18248.0  6172.83     3.14    3.0   \n",
       "\n",
       "                  livingrooms              building_age               \n",
       "              std        mean median   std         mean median   std  \n",
       "price_level                                                           \n",
       "低价           0.82        1.70    2.0  0.50        11.55   10.0  6.52  \n",
       "中价           0.71        1.88    2.0  0.35        11.61   10.0  5.78  \n",
       "高价           0.75        1.91    2.0  0.36        12.46   11.0  5.76  \n",
       "豪华           0.76        1.95    2.0  0.33        13.22   12.0  5.96  "
      ],
      "text/html": [
       "<div>\n",
       "<style scoped>\n",
       "    .dataframe tbody tr th:only-of-type {\n",
       "        vertical-align: middle;\n",
       "    }\n",
       "\n",
       "    .dataframe tbody tr th {\n",
       "        vertical-align: top;\n",
       "    }\n",
       "\n",
       "    .dataframe thead tr th {\n",
       "        text-align: left;\n",
       "    }\n",
       "\n",
       "    .dataframe thead tr:last-of-type th {\n",
       "        text-align: right;\n",
       "    }\n",
       "</style>\n",
       "<table border=\"1\" class=\"dataframe\">\n",
       "  <thead>\n",
       "    <tr>\n",
       "      <th></th>\n",
       "      <th colspan=\"3\" halign=\"left\">area</th>\n",
       "      <th colspan=\"3\" halign=\"left\">unit</th>\n",
       "      <th colspan=\"3\" halign=\"left\">bedrooms</th>\n",
       "      <th colspan=\"3\" halign=\"left\">livingrooms</th>\n",
       "      <th colspan=\"3\" halign=\"left\">building_age</th>\n",
       "    </tr>\n",
       "    <tr>\n",
       "      <th></th>\n",
       "      <th>mean</th>\n",
       "      <th>median</th>\n",
       "      <th>std</th>\n",
       "      <th>mean</th>\n",
       "      <th>median</th>\n",
       "      <th>std</th>\n",
       "      <th>mean</th>\n",
       "      <th>median</th>\n",
       "      <th>std</th>\n",
       "      <th>mean</th>\n",
       "      <th>median</th>\n",
       "      <th>std</th>\n",
       "      <th>mean</th>\n",
       "      <th>median</th>\n",
       "      <th>std</th>\n",
       "    </tr>\n",
       "    <tr>\n",
       "      <th>price_level</th>\n",
       "      <th></th>\n",
       "      <th></th>\n",
       "      <th></th>\n",
       "      <th></th>\n",
       "      <th></th>\n",
       "      <th></th>\n",
       "      <th></th>\n",
       "      <th></th>\n",
       "      <th></th>\n",
       "      <th></th>\n",
       "      <th></th>\n",
       "      <th></th>\n",
       "      <th></th>\n",
       "      <th></th>\n",
       "      <th></th>\n",
       "    </tr>\n",
       "  </thead>\n",
       "  <tbody>\n",
       "    <tr>\n",
       "      <th>低价</th>\n",
       "      <td>83.49</td>\n",
       "      <td>86.0</td>\n",
       "      <td>28.73</td>\n",
       "      <td>7178.18</td>\n",
       "      <td>6667.0</td>\n",
       "      <td>2725.54</td>\n",
       "      <td>2.33</td>\n",
       "      <td>2.0</td>\n",
       "      <td>0.82</td>\n",
       "      <td>1.70</td>\n",
       "      <td>2.0</td>\n",
       "      <td>0.50</td>\n",
       "      <td>11.55</td>\n",
       "      <td>10.0</td>\n",
       "      <td>6.52</td>\n",
       "    </tr>\n",
       "    <tr>\n",
       "      <th>中价</th>\n",
       "      <td>103.72</td>\n",
       "      <td>100.0</td>\n",
       "      <td>26.38</td>\n",
       "      <td>10444.36</td>\n",
       "      <td>9835.0</td>\n",
       "      <td>3307.28</td>\n",
       "      <td>2.74</td>\n",
       "      <td>3.0</td>\n",
       "      <td>0.71</td>\n",
       "      <td>1.88</td>\n",
       "      <td>2.0</td>\n",
       "      <td>0.35</td>\n",
       "      <td>11.61</td>\n",
       "      <td>10.0</td>\n",
       "      <td>5.78</td>\n",
       "    </tr>\n",
       "    <tr>\n",
       "      <th>高价</th>\n",
       "      <td>115.82</td>\n",
       "      <td>115.0</td>\n",
       "      <td>33.77</td>\n",
       "      <td>15390.56</td>\n",
       "      <td>14471.0</td>\n",
       "      <td>4964.96</td>\n",
       "      <td>2.92</td>\n",
       "      <td>3.0</td>\n",
       "      <td>0.75</td>\n",
       "      <td>1.91</td>\n",
       "      <td>2.0</td>\n",
       "      <td>0.36</td>\n",
       "      <td>12.46</td>\n",
       "      <td>11.0</td>\n",
       "      <td>5.76</td>\n",
       "    </tr>\n",
       "    <tr>\n",
       "      <th>豪华</th>\n",
       "      <td>129.01</td>\n",
       "      <td>128.0</td>\n",
       "      <td>38.72</td>\n",
       "      <td>19436.35</td>\n",
       "      <td>18248.0</td>\n",
       "      <td>6172.83</td>\n",
       "      <td>3.14</td>\n",
       "      <td>3.0</td>\n",
       "      <td>0.76</td>\n",
       "      <td>1.95</td>\n",
       "      <td>2.0</td>\n",
       "      <td>0.33</td>\n",
       "      <td>13.22</td>\n",
       "      <td>12.0</td>\n",
       "      <td>5.96</td>\n",
       "    </tr>\n",
       "  </tbody>\n",
       "</table>\n",
       "</div>"
      ]
     },
     "metadata": {},
     "output_type": "display_data"
    }
   ],
   "execution_count": 272
  },
  {
   "metadata": {
    "ExecuteTime": {
     "end_time": "2025-07-25T22:23:17.663794Z",
     "start_time": "2025-07-25T22:23:17.331367Z"
    }
   },
   "cell_type": "code",
   "source": [
    "plt.figure(figsize=(5,5))\n",
    "\n",
    "plt.subplot(221)\n",
    "sns.barplot(x='price_level',y='area',data=df,estimator='median',errorbar=None)\n",
    "plt.title('价格分层-面积-对比')\n",
    "\n",
    "plt.subplot(222)\n",
    "sns.barplot(x='price_level',y='unit',data=df,estimator='median',errorbar=None)\n",
    "plt.title('价格分层-单价-对比')\n",
    "\n",
    "plt.subplot(223)\n",
    "sns.barplot(x='price_level',y='bedrooms',data=df,estimator='median',errorbar=None)\n",
    "plt.title('价格分层-卧室数量-对比')\n",
    "\n",
    "plt.subplot(224)\n",
    "sns.barplot(x='price_level',y='building_age',data=df,estimator='median',errorbar=None)\n",
    "plt.title('价格分层-建筑年龄-对比')\n",
    "\n",
    "plt.tight_layout()\n",
    "plt.show()"
   ],
   "id": "6689cb5241ef4d48",
   "outputs": [
    {
     "data": {
      "text/plain": [
       "<Figure size 500x500 with 4 Axes>"
      ],
      "image/png": "[encoded data removed]"
     },
     "metadata": {},
     "output_type": "display_data"
    }
   ],
   "execution_count": 205
  },
  {
   "metadata": {},
   "cell_type": "markdown",
   "source": "### 问题5：哪种户型最受欢迎？三室比两室贵多少？",
   "id": "56552a040ff49e3c"
  },
  {
   "metadata": {},
   "cell_type": "code",
   "outputs": [],
   "execution_count": null,
   "source": [
    "'''\n",
    "问题编号: A5\n",
    "问题: 哪种户型最受欢迎？三室比两室贵多少？\n",
    "分析主题: 户型分析\n",
    "分析目标: 分析不同户型的市场表现\n",
    "分组字段: rooms\n",
    "指标/方法: 占比/平均单价/溢价率\n",
    "'''"
   ],
   "id": "eb5c77be208bf89c"
  },
  {
   "metadata": {
    "ExecuteTime": {
     "end_time": "2025-07-25T22:59:45.999980Z",
     "start_time": "2025-07-25T22:59:45.992039Z"
    }
   },
   "cell_type": "code",
   "source": [
    "relationship = df[['price','bedrooms','livingrooms']].corr()\n",
    "relationship['price'].sort_values(ascending=False)\n",
    "print(relationship)"
   ],
   "id": "8c38b293beaf986d",
   "outputs": [
    {
     "name": "stdout",
     "output_type": "stream",
     "text": [
      "                price  bedrooms  livingrooms\n",
      "price        1.000000   0.32187     0.203615\n",
      "bedrooms     0.321870   1.00000     0.506110\n",
      "livingrooms  0.203615   0.50611     1.000000\n"
     ]
    }
   ],
   "execution_count": 232
  },
  {
   "metadata": {
    "ExecuteTime": {
     "end_time": "2025-07-25T23:02:11.909299Z",
     "start_time": "2025-07-25T23:02:11.788120Z"
    }
   },
   "cell_type": "code",
   "source": [
    "plt.figure(figsize=(5,4))\n",
    "sns.heatmap(relationship,cmap='jet',annot=True)\n",
    "plt.title('户型与价格相关性分析')\n",
    "plt.tight_layout()\n",
    "plt.show()"
   ],
   "id": "2f4a25a7e806f09b",
   "outputs": [
    {
     "data": {
      "text/plain": [
       "<Figure size 500x400 with 2 Axes>"
      ],
      "image/png": "[encoded data removed]"
     },
     "metadata": {},
     "output_type": "display_data"
    }
   ],
   "execution_count": 238
  },
  {
   "metadata": {
    "ExecuteTime": {
     "end_time": "2025-07-25T23:30:57.834892Z",
     "start_time": "2025-07-25T23:30:57.730162Z"
    }
   },
   "cell_type": "code",
   "source": [
    "plt.figure(figsize=(5,3))\n",
    "\n",
    "price_3_bedrooms = (df[df['bedrooms']==3]['price']).mean().round(3)\n",
    "price_2_bedrooms = (df[df['bedrooms']==2]['price']).mean().round(3)\n",
    "\n",
    "price = [price_3_bedrooms,price_2_bedrooms]\n",
    "room_type = ['3室','2室']\n",
    "\n",
    "plt.barh(y=room_type, width=price, color='#63cccc', alpha=0.8)\n",
    "\n",
    "plt.title('3室与2室房价对比')\n",
    "plt.xlabel('均价（万元）')\n",
    "plt.ylabel('卧室数量')\n",
    "plt.grid(axis='y')\n",
    "\n",
    "for x,y in zip(price,room_type):\n",
    "    plt.text(x,y,x,va='center',ha='left',fontsize=12)\n",
    "\n",
    "plt.tight_layout()\n",
    "plt.show()\n"
   ],
   "id": "d13b1a46d98a1b94",
   "outputs": [
    {
     "data": {
      "text/plain": [
       "<Figure size 500x300 with 1 Axes>"
      ],
      "image/png": "[encoded data removed]"
     },
     "metadata": {},
     "output_type": "display_data"
    }
   ],
   "execution_count": 257
  },
  {
   "metadata": {},
   "cell_type": "markdown",
   "source": "### 问题6：南北向是否真比单一朝向贵？贵多少？",
   "id": "af9eb020b1e20f54"
  },
  {
   "metadata": {},
   "cell_type": "code",
   "outputs": [],
   "execution_count": null,
   "source": [
    "'''\n",
    "问题编号: A6\n",
    "问题: 南北向是否真比单一朝向贵？贵多少？\n",
    "分析主题: 朝向溢价\n",
    "分析目标: 评估不同朝向的价格差异\n",
    "分组字段: toward\n",
    "指标/方法: 方差分析/多重比较\n",
    "'''"
   ],
   "id": "7577506fd471ff2c"
  },
  {
   "metadata": {
    "ExecuteTime": {
     "end_time": "2025-07-25T23:58:17.089722Z",
     "start_time": "2025-07-25T23:58:17.063465Z"
    }
   },
   "cell_type": "code",
   "source": [
    "toward_stats = df.groupby('toward', observed=True).agg({\n",
    "    'price':['mean','median','std']\n",
    "})\n",
    "toward_stats = toward_stats.sort_values(('price','median'),ascending=False)\n",
    "display(toward_stats.round(2))"
   ],
   "id": "fc7f934b64bbbc05",
   "outputs": [
    {
     "data": {
      "text/plain": [
       "         price              \n",
       "          mean median    std\n",
       "toward                      \n",
       "西南向     133.37  130.0  58.09\n",
       "西北向     113.79  105.0  57.49\n",
       "东南向     111.18  102.0  53.42\n",
       "东北向     111.44  100.0  58.49\n",
       "南北向     114.20  100.0  54.48\n",
       "南向      109.88  100.0  53.91\n",
       "东向      106.19   90.0  57.19\n",
       "西向       96.95   84.0  48.58\n",
       "东西向      97.67   82.0  51.68\n",
       "北向       89.50   75.0  48.61"
      ],
      "text/html": [
       "<div>\n",
       "<style scoped>\n",
       "    .dataframe tbody tr th:only-of-type {\n",
       "        vertical-align: middle;\n",
       "    }\n",
       "\n",
       "    .dataframe tbody tr th {\n",
       "        vertical-align: top;\n",
       "    }\n",
       "\n",
       "    .dataframe thead tr th {\n",
       "        text-align: left;\n",
       "    }\n",
       "\n",
       "    .dataframe thead tr:last-of-type th {\n",
       "        text-align: right;\n",
       "    }\n",
       "</style>\n",
       "<table border=\"1\" class=\"dataframe\">\n",
       "  <thead>\n",
       "    <tr>\n",
       "      <th></th>\n",
       "      <th colspan=\"3\" halign=\"left\">price</th>\n",
       "    </tr>\n",
       "    <tr>\n",
       "      <th></th>\n",
       "      <th>mean</th>\n",
       "      <th>median</th>\n",
       "      <th>std</th>\n",
       "    </tr>\n",
       "    <tr>\n",
       "      <th>toward</th>\n",
       "      <th></th>\n",
       "      <th></th>\n",
       "      <th></th>\n",
       "    </tr>\n",
       "  </thead>\n",
       "  <tbody>\n",
       "    <tr>\n",
       "      <th>西南向</th>\n",
       "      <td>133.37</td>\n",
       "      <td>130.0</td>\n",
       "      <td>58.09</td>\n",
       "    </tr>\n",
       "    <tr>\n",
       "      <th>西北向</th>\n",
       "      <td>113.79</td>\n",
       "      <td>105.0</td>\n",
       "      <td>57.49</td>\n",
       "    </tr>\n",
       "    <tr>\n",
       "      <th>东南向</th>\n",
       "      <td>111.18</td>\n",
       "      <td>102.0</td>\n",
       "      <td>53.42</td>\n",
       "    </tr>\n",
       "    <tr>\n",
       "      <th>东北向</th>\n",
       "      <td>111.44</td>\n",
       "      <td>100.0</td>\n",
       "      <td>58.49</td>\n",
       "    </tr>\n",
       "    <tr>\n",
       "      <th>南北向</th>\n",
       "      <td>114.20</td>\n",
       "      <td>100.0</td>\n",
       "      <td>54.48</td>\n",
       "    </tr>\n",
       "    <tr>\n",
       "      <th>南向</th>\n",
       "      <td>109.88</td>\n",
       "      <td>100.0</td>\n",
       "      <td>53.91</td>\n",
       "    </tr>\n",
       "    <tr>\n",
       "      <th>东向</th>\n",
       "      <td>106.19</td>\n",
       "      <td>90.0</td>\n",
       "      <td>57.19</td>\n",
       "    </tr>\n",
       "    <tr>\n",
       "      <th>西向</th>\n",
       "      <td>96.95</td>\n",
       "      <td>84.0</td>\n",
       "      <td>48.58</td>\n",
       "    </tr>\n",
       "    <tr>\n",
       "      <th>东西向</th>\n",
       "      <td>97.67</td>\n",
       "      <td>82.0</td>\n",
       "      <td>51.68</td>\n",
       "    </tr>\n",
       "    <tr>\n",
       "      <th>北向</th>\n",
       "      <td>89.50</td>\n",
       "      <td>75.0</td>\n",
       "      <td>48.61</td>\n",
       "    </tr>\n",
       "  </tbody>\n",
       "</table>\n",
       "</div>"
      ]
     },
     "metadata": {},
     "output_type": "display_data"
    }
   ],
   "execution_count": 273
  },
  {
   "metadata": {
    "ExecuteTime": {
     "end_time": "2025-07-25T23:58:23.384431Z",
     "start_time": "2025-07-25T23:58:23.200435Z"
    }
   },
   "cell_type": "code",
   "source": [
    "sns.boxplot(x='toward',y='price',data=df)\n",
    "plt.title('朝向与价格分布对比')\n",
    "plt.xlabel('朝向')\n",
    "plt.ylabel('价格(万元)')\n",
    "plt.tight_layout()\n",
    "plt.show()"
   ],
   "id": "1bfe8437b3da3299",
   "outputs": [
    {
     "data": {
      "text/plain": [
       "<Figure size 640x480 with 1 Axes>"
      ],
      "image/png": "[encoded data removed]"
     },
     "metadata": {},
     "output_type": "display_data"
    }
   ],
   "execution_count": 274
  },
  {
   "metadata": {},
   "cell_type": "markdown",
   "source": "# Congratulations!⭐",
   "id": "b453ec2c8e71dc08"
  }
 ],
 "metadata": {
  "kernelspec": {
   "display_name": "Python 3",
   "language": "python",
   "name": "python3"
  },
  "language_info": {
   "codemirror_mode": {
    "name": "ipython",
    "version": 2
   },
   "file_extension": ".py",
   "mimetype": "text/x-python",
   "name": "python",
   "nbconvert_exporter": "python",
   "pygments_lexer": "ipython2",
   "version": "2.7.6"
  }
 },
 "nbformat": 4,
 "nbformat_minor": 5
}
