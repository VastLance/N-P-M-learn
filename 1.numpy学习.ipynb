{
 "cells": [
  {
   "metadata": {},
   "cell_type": "markdown",
   "source": [
    "## 0.jupyter notebook 的快捷键\n",
    "> - enter 编辑<br>\n",
    "> - esc 退出编辑<br>\n",
    "> - m markdown模式<br>\n",
    "> - y code模式<br>\n",
    "> - dd 删除选中的单元<br>\n",
    "> - shift+enter 运行此单元，新建下个单元<br>\n",
    "> - ctrl+enter 运行此单元<br>\n",
    "> - a 在上方插入新单元<br>\n",
    "> - b 在下方插入新单元"
   ],
   "id": "266fb20eeabfe2df"
  },
  {
   "metadata": {},
   "cell_type": "markdown",
   "source": "# 一、ndarray",
   "id": "8a76cb06ee9a4cd5"
  },
  {
   "metadata": {},
   "cell_type": "markdown",
   "source": "## 1.numpy的特性",
   "id": "68b06b1ae41eddb6"
  },
  {
   "metadata": {},
   "cell_type": "markdown",
   "source": "### 多维性",
   "id": "d5360f2611c2ed43"
  },
  {
   "metadata": {
    "ExecuteTime": {
     "end_time": "2025-07-17T23:32:35.631077Z",
     "start_time": "2025-07-17T23:32:35.563583Z"
    }
   },
   "cell_type": "code",
   "source": "import numpy as np",
   "id": "e84129c0982632c7",
   "outputs": [],
   "execution_count": 1
  },
  {
   "metadata": {
    "ExecuteTime": {
     "end_time": "2025-07-15T15:12:27.238730Z",
     "start_time": "2025-07-15T15:12:27.235025Z"
    }
   },
   "cell_type": "code",
   "source": [
    "arr1 = np.array(5)\n",
    "print(arr1)\n",
    "print('arr1的维度:',arr1.ndim)"
   ],
   "id": "142c13d1b854ae8c",
   "outputs": [
    {
     "name": "stdout",
     "output_type": "stream",
     "text": [
      "5\n",
      "arr1的维度: 0\n"
     ]
    }
   ],
   "execution_count": 10
  },
  {
   "metadata": {
    "ExecuteTime": {
     "end_time": "2025-07-15T15:12:27.253381Z",
     "start_time": "2025-07-15T15:12:27.248708Z"
    }
   },
   "cell_type": "code",
   "source": [
    "arr2 = np.array([1,2,3,4])\n",
    "print(arr2)\n",
    "print('arr2的维度：',arr2.ndim)"
   ],
   "id": "298991f61389208b",
   "outputs": [
    {
     "name": "stdout",
     "output_type": "stream",
     "text": [
      "[1 2 3 4]\n",
      "arr2的维度： 1\n"
     ]
    }
   ],
   "execution_count": 11
  },
  {
   "metadata": {
    "ExecuteTime": {
     "end_time": "2025-07-15T15:12:27.268599Z",
     "start_time": "2025-07-15T15:12:27.264028Z"
    }
   },
   "cell_type": "code",
   "source": [
    "arr3 = np.array([[1,2,3],[4,5,6],[7,8,9]])  #注意二维的得搞两层列表\n",
    "print(arr3)\n",
    "print('arr3的维度:',arr3.ndim)"
   ],
   "id": "b8bd4ab1586e98ee",
   "outputs": [
    {
     "name": "stdout",
     "output_type": "stream",
     "text": [
      "[[1 2 3]\n",
      " [4 5 6]\n",
      " [7 8 9]]\n",
      "arr3的维度: 2\n"
     ]
    }
   ],
   "execution_count": 12
  },
  {
   "metadata": {
    "ExecuteTime": {
     "end_time": "2025-07-15T15:12:27.284506Z",
     "start_time": "2025-07-15T15:12:27.279600Z"
    }
   },
   "cell_type": "code",
   "source": [
    "arr4 = np.array([[[1,2,3],[4,5,6],[7,8,9]],[[1,2,3],[4,5,6],[7,8,9]]])  #注意三维的得搞三层列表\n",
    "print(arr4)\n",
    "print('arr4的维度:',arr4.ndim)"
   ],
   "id": "bd78a869e2849ed",
   "outputs": [
    {
     "name": "stdout",
     "output_type": "stream",
     "text": [
      "[[[1 2 3]\n",
      "  [4 5 6]\n",
      "  [7 8 9]]\n",
      "\n",
      " [[1 2 3]\n",
      "  [4 5 6]\n",
      "  [7 8 9]]]\n",
      "arr4的维度: 3\n"
     ]
    }
   ],
   "execution_count": 13
  },
  {
   "metadata": {},
   "cell_type": "markdown",
   "source": "### 同质性",
   "id": "d340d8dbb44e7120"
  },
  {
   "metadata": {
    "ExecuteTime": {
     "end_time": "2025-07-15T15:12:27.299956Z",
     "start_time": "2025-07-15T15:12:27.294804Z"
    }
   },
   "cell_type": "code",
   "source": [
    "arr5 = np.array([1,'hello'])  #不同的数据类型会被强制转换成相同的数据类型\n",
    "arr6 = np.array([1,1.5])\n",
    "print(arr5)\n",
    "print(arr6)"
   ],
   "id": "7fe53c56ecbc74d0",
   "outputs": [
    {
     "name": "stdout",
     "output_type": "stream",
     "text": [
      "['1' 'hello']\n",
      "[1.  1.5]\n"
     ]
    }
   ],
   "execution_count": 14
  },
  {
   "metadata": {},
   "cell_type": "markdown",
   "source": "## 2.numpy的属性",
   "id": "d811226229acd516"
  },
  {
   "metadata": {
    "ExecuteTime": {
     "end_time": "2025-07-17T12:48:47.967183Z",
     "start_time": "2025-07-17T12:48:47.961224Z"
    }
   },
   "cell_type": "code",
   "source": [
    "arr = np.array([[1,2,3],[4,5,6]])\n",
    "print('arr的数组的形状:',arr.shape)\n",
    "print('arr的维度数量:',arr.ndim)\n",
    "print('arr的元素个数:',arr.size)\n",
    "print('arr的元素类型:',arr.dtype)\n",
    "print('arr的转置:\\n',arr.T)\n",
    "print('arr的单个元素占用的内存字节数:',arr.itemsize)\n",
    "print('arr的数组总内存占用量:',arr.nbytes)\n",
    "print('arr的内存存储方式（是否连续存储）（高级优化）:\\n',arr.flags)"
   ],
   "id": "67ca9a8d66f6fa00",
   "outputs": [
    {
     "name": "stdout",
     "output_type": "stream",
     "text": [
      "arr的数组的形状: (2, 3)\n",
      "arr的维度数量: 2\n",
      "arr的元素个数: 6\n",
      "arr的元素类型: int64\n",
      "arr的转置:\n",
      " [[1 4]\n",
      " [2 5]\n",
      " [3 6]]\n",
      "arr的单个元素占用的内存字节数: 8\n",
      "arr的数组总内存占用量: 48\n",
      "arr的内存存储方式（是否连续存储）（高级优化）:\n",
      "   C_CONTIGUOUS : True\n",
      "  F_CONTIGUOUS : False\n",
      "  OWNDATA : True\n",
      "  WRITEABLE : True\n",
      "  ALIGNED : True\n",
      "  WRITEBACKIFCOPY : False\n",
      "\n"
     ]
    }
   ],
   "execution_count": 40
  },
  {
   "metadata": {},
   "cell_type": "markdown",
   "source": "## 3.ndarray的创建",
   "id": "7d21cb0e61411304"
  },
  {
   "metadata": {},
   "cell_type": "markdown",
   "source": [
    "- **基础构造**：<br>*适用于手动构建小规模数组或复制已有数据。*<br>`np.array()` `np.copy()`\n",
    "- **预定义形状填充**：<br>*用于快速初始化固定形状的数组（如全0占位、全1初始化）*<br>`np.zeros()` `np.ones()` `np.empty()` `np.full()`\n",
    "- **基于数值范围生成**：<br>*生成数值序列，常用于模拟时间序列、坐标网格等。*<br>`np.arange()` `np.linspace` `np.logspace()`\n",
    "- **特殊矩阵生成**：<br>*数学运算专用（如线性代数中的单位矩阵）。*<br>`np.eye()` `np.diag()`\n",
    "- **随机数组生成**：<br>*模拟实验数据、初始化神经网络权重等场景。*<br>`np.random.rand()` `np.random.randn()` `np.random.randint()`\n",
    "- **高级构造方法**：<br>*处理非结构化数据（文件、字符串）或通过函数生成复杂数组。*<br>`np.array()` `np.loadtxt()` `np.fromfunction()`"
   ],
   "id": "5efdfc34eb0877ed"
  },
  {
   "metadata": {},
   "cell_type": "markdown",
   "source": "### 预定义形状填充",
   "id": "211aeb76961b52ca"
  },
  {
   "metadata": {
    "ExecuteTime": {
     "end_time": "2025-07-17T12:52:40.894174Z",
     "start_time": "2025-07-17T12:52:40.889549Z"
    }
   },
   "cell_type": "code",
   "source": [
    "arr = np.zeros(shape=(2,3),dtype=int)\n",
    "print('arr:\\n',arr)\n",
    "print('arr type:',arr.dtype)"
   ],
   "id": "367917d329079c70",
   "outputs": [
    {
     "name": "stdout",
     "output_type": "stream",
     "text": [
      "arr:\n",
      " [[0 0 0]\n",
      " [0 0 0]]\n",
      "arr type: int64\n"
     ]
    }
   ],
   "execution_count": 51
  },
  {
   "metadata": {
    "ExecuteTime": {
     "end_time": "2025-07-17T12:52:40.911211Z",
     "start_time": "2025-07-17T12:52:40.907406Z"
    }
   },
   "cell_type": "code",
   "source": [
    "arr = np.ones((3,2),int)\n",
    "print('arr:\\n',arr)\n",
    "print('arr type:',arr.dtype)"
   ],
   "id": "1af6449a58d2726d",
   "outputs": [
    {
     "name": "stdout",
     "output_type": "stream",
     "text": [
      "arr:\n",
      " [[1 1]\n",
      " [1 1]\n",
      " [1 1]]\n",
      "arr type: int64\n"
     ]
    }
   ],
   "execution_count": 52
  },
  {
   "metadata": {
    "ExecuteTime": {
     "end_time": "2025-07-17T12:52:40.938107Z",
     "start_time": "2025-07-17T12:52:40.934108Z"
    }
   },
   "cell_type": "code",
   "source": [
    "arr = np.empty((2,3),int)  # 随机生成的\n",
    "print('arr:\\n',arr)\n",
    "print('arr type:',arr.dtype)"
   ],
   "id": "ea14387eaf1cb25a",
   "outputs": [
    {
     "name": "stdout",
     "output_type": "stream",
     "text": [
      "arr:\n",
      " [[0 0 0]\n",
      " [0 0 0]]\n",
      "arr type: int64\n"
     ]
    }
   ],
   "execution_count": 53
  },
  {
   "metadata": {
    "ExecuteTime": {
     "end_time": "2025-07-17T12:52:40.961925Z",
     "start_time": "2025-07-17T12:52:40.957791Z"
    }
   },
   "cell_type": "code",
   "source": [
    "arr = np.full((2,3),2025,int)\n",
    "print('arr:\\n',arr)\n",
    "print('arr type:',arr.dtype)"
   ],
   "id": "315d018cf1d3ef02",
   "outputs": [
    {
     "name": "stdout",
     "output_type": "stream",
     "text": [
      "arr:\n",
      " [[2025 2025 2025]\n",
      " [2025 2025 2025]]\n",
      "arr type: int64\n"
     ]
    }
   ],
   "execution_count": 54
  },
  {
   "metadata": {
    "ExecuteTime": {
     "end_time": "2025-07-17T12:52:40.979499Z",
     "start_time": "2025-07-17T12:52:40.975210Z"
    }
   },
   "cell_type": "code",
   "source": [
    "arr = np.full_like(arr2,20,int)  # 形状（行数、列数）一样\n",
    "print('arr:\\n',arr)\n",
    "print('arr type:',arr.dtype)"
   ],
   "id": "b02ccccd57220e18",
   "outputs": [
    {
     "name": "stdout",
     "output_type": "stream",
     "text": [
      "arr:\n",
      " [[20 20]\n",
      " [20 20]\n",
      " [20 20]]\n",
      "arr type: int64\n"
     ]
    }
   ],
   "execution_count": 55
  },
  {
   "metadata": {},
   "cell_type": "markdown",
   "source": "### 基于数值范围生成",
   "id": "ac442fac81af5104"
  },
  {
   "metadata": {
    "ExecuteTime": {
     "end_time": "2025-07-17T12:52:38.619440Z",
     "start_time": "2025-07-17T12:52:38.615231Z"
    }
   },
   "cell_type": "code",
   "source": [
    "# 等差数列\n",
    "arr = np.arange(0,11,2)  # start,end(not included),step\n",
    "print(arr)"
   ],
   "id": "71bb8a8c9f3e31e7",
   "outputs": [
    {
     "name": "stdout",
     "output_type": "stream",
     "text": [
      "[ 0  2  4  6  8 10]\n"
     ]
    }
   ],
   "execution_count": 48
  },
  {
   "metadata": {
    "ExecuteTime": {
     "end_time": "2025-07-17T12:52:38.663006Z",
     "start_time": "2025-07-17T12:52:38.658599Z"
    }
   },
   "cell_type": "code",
   "source": [
    "# 等间隔数列\n",
    "arr = np.linspace(1,15,5) # start,end(default include),number of pieces\n",
    "print(arr)"
   ],
   "id": "1dd33f22789027e6",
   "outputs": [
    {
     "name": "stdout",
     "output_type": "stream",
     "text": [
      "[ 1.   4.5  8.  11.5 15. ]\n"
     ]
    }
   ],
   "execution_count": 49
  },
  {
   "metadata": {
    "ExecuteTime": {
     "end_time": "2025-07-17T12:52:38.690546Z",
     "start_time": "2025-07-17T12:52:38.684888Z"
    }
   },
   "cell_type": "code",
   "source": [
    "# 对数间隔数列（等比数列）\n",
    "arr = np.logspace(1,7,4,base=2) # 把从2^1到2^7分成4等份\n",
    "print(arr)"
   ],
   "id": "1dbf72a906a62ea1",
   "outputs": [
    {
     "name": "stdout",
     "output_type": "stream",
     "text": [
      "[  2.   8.  32. 128.]\n"
     ]
    }
   ],
   "execution_count": 50
  },
  {
   "metadata": {},
   "cell_type": "markdown",
   "source": "### 特殊矩阵的生成",
   "id": "529d4af1edfbef7a"
  },
  {
   "metadata": {
    "ExecuteTime": {
     "end_time": "2025-07-17T12:52:35.555737Z",
     "start_time": "2025-07-17T12:52:35.551399Z"
    }
   },
   "cell_type": "code",
   "source": [
    "# 单位矩阵: 主对角线上的数字为1，其它位置为0\n",
    "arr1 = np.eye(3, dtype=int)\n",
    "arr2 = np.eye(3, 2, dtype=float)\n",
    "print('arr1:\\n', arr1)\n",
    "print('arr2:\\n', arr2)"
   ],
   "id": "5d7eba30ad91dde9",
   "outputs": [
    {
     "name": "stdout",
     "output_type": "stream",
     "text": [
      "arr1:\n",
      " [[1 0 0]\n",
      " [0 1 0]\n",
      " [0 0 1]]\n",
      "arr2:\n",
      " [[1. 0.]\n",
      " [0. 1.]\n",
      " [0. 0.]]\n"
     ]
    }
   ],
   "execution_count": 46
  },
  {
   "metadata": {
    "ExecuteTime": {
     "end_time": "2025-07-17T12:52:35.572836Z",
     "start_time": "2025-07-17T12:52:35.569377Z"
    }
   },
   "cell_type": "code",
   "source": [
    "# 对角矩阵： 主对角线上为非零的数，其他的位置为0\n",
    "arr = np.diag([1,2,3,4])\n",
    "print(arr)"
   ],
   "id": "12bd3abe286f2817",
   "outputs": [
    {
     "name": "stdout",
     "output_type": "stream",
     "text": [
      "[[1 0 0 0]\n",
      " [0 2 0 0]\n",
      " [0 0 3 0]\n",
      " [0 0 0 4]]\n"
     ]
    }
   ],
   "execution_count": 47
  },
  {
   "metadata": {},
   "cell_type": "markdown",
   "source": "### 随机数组的生成",
   "id": "118911260e53907d"
  },
  {
   "metadata": {
    "ExecuteTime": {
     "end_time": "2025-07-17T12:52:23.362132Z",
     "start_time": "2025-07-17T12:52:23.356834Z"
    }
   },
   "cell_type": "code",
   "source": [
    "# 生成0到1之间的随机浮点数（均匀分布）\n",
    "arr = np.random.rand(2,3)  # 生成2行3列的0~1之间的随机数\n",
    "print(arr)"
   ],
   "id": "15a4a65349f09b0c",
   "outputs": [
    {
     "name": "stdout",
     "output_type": "stream",
     "text": [
      "[[0.03588959 0.69175758 0.37868094]\n",
      " [0.51851095 0.65795147 0.19385022]]\n"
     ]
    }
   ],
   "execution_count": 41
  },
  {
   "metadata": {
    "ExecuteTime": {
     "end_time": "2025-07-17T12:52:23.384750Z",
     "start_time": "2025-07-17T12:52:23.379975Z"
    }
   },
   "cell_type": "code",
   "source": [
    "# 生成指定范围区间的随机浮点数\n",
    "arr = np.random.uniform(3,6,(2,3))  # 生成2行3列的3~6之间的随机数\n",
    "print(arr)"
   ],
   "id": "ae943f41bb29ddf1",
   "outputs": [
    {
     "name": "stdout",
     "output_type": "stream",
     "text": [
      "[[3.81694921 5.1558178  5.34901083]\n",
      " [5.55098292 5.32573468 3.10999292]]\n"
     ]
    }
   ],
   "execution_count": 42
  },
  {
   "metadata": {
    "ExecuteTime": {
     "end_time": "2025-07-17T12:52:23.416429Z",
     "start_time": "2025-07-17T12:52:23.412129Z"
    }
   },
   "cell_type": "code",
   "source": [
    "# 生成指定范围区间的随机整数\n",
    "arr = np.random.randint(3, 30, (3,2))  # 生成3行2列的3~30之间的随机整数\n",
    "print(arr)"
   ],
   "id": "d7c8abf498501f10",
   "outputs": [
    {
     "name": "stdout",
     "output_type": "stream",
     "text": [
      "[[ 9 29]\n",
      " [16 14]\n",
      " [29 28]]\n"
     ]
    }
   ],
   "execution_count": 43
  },
  {
   "metadata": {
    "ExecuteTime": {
     "end_time": "2025-07-17T12:52:23.440979Z",
     "start_time": "2025-07-17T12:52:23.436204Z"
    }
   },
   "cell_type": "code",
   "source": [
    "# 生成随机数列（正态分布）\n",
    "arr = np.random.randn(2,3) #生成均值为0，标准差为1的2行3列的正态分布随机数\n",
    "print(arr)"
   ],
   "id": "dfd5282691911303",
   "outputs": [
    {
     "name": "stdout",
     "output_type": "stream",
     "text": [
      "[[ 0.6226121  -0.42687316  0.08443397]\n",
      " [ 0.61563566  0.53843148 -0.63997574]]\n"
     ]
    }
   ],
   "execution_count": 44
  },
  {
   "metadata": {
    "ExecuteTime": {
     "end_time": "2025-07-17T12:52:23.462380Z",
     "start_time": "2025-07-17T12:52:23.458774Z"
    }
   },
   "cell_type": "code",
   "source": [
    "# 设置随机种子\n",
    "np.random.seed(20)\n",
    "arr = np.random.randint(5,10,(2,3))\n",
    "print(arr)"
   ],
   "id": "708615f7d40a4a9a",
   "outputs": [
    {
     "name": "stdout",
     "output_type": "stream",
     "text": [
      "[[8 7 9]\n",
      " [7 6 9]]\n"
     ]
    }
   ],
   "execution_count": 45
  },
  {
   "metadata": {},
   "cell_type": "markdown",
   "source": "## 4.ndarray的数据类型",
   "id": "1a0662c91131cef2"
  },
  {
   "metadata": {},
   "cell_type": "markdown",
   "source": [
    "- 布尔类型 bool\n",
    "- 整数类型\n",
    "    - 有符号：int8、int16、int32、int64\n",
    "    - 无符号：uint8、uint16、uint32、uint64\n",
    "- 浮点类型\n",
    "    - float16、float32、float64、float128\n",
    "- 复数类型\n",
    "    - complex64、complex128、complex256"
   ],
   "id": "3d2636a7f943aee3"
  },
  {
   "metadata": {
    "ExecuteTime": {
     "end_time": "2025-07-17T12:44:01.734660Z",
     "start_time": "2025-07-17T12:44:01.729172Z"
    }
   },
   "cell_type": "code",
   "source": [
    "arr1 = np.array([0, 127, 255], dtype='uint8') # 无符号8bit整数 0~255\n",
    "arr2 = np.array([0, -128, 127], dtype='int8') # 有符号8bit整数 -128~127\n",
    "arr3 = np.array([0, 127, 255], dtype='bool') # 布尔类型 0为False，非0为True\n",
    "print(arr1, arr1.itemsize, arr1.nbytes, arr1.dtype)\n",
    "print(arr2, arr2.itemsize, arr2.nbytes, arr2.dtype)\n",
    "print(arr3, arr3.itemsize, arr3.nbytes, arr3.dtype)"
   ],
   "id": "3a860457829533a1",
   "outputs": [
    {
     "name": "stdout",
     "output_type": "stream",
     "text": [
      "[  0 127 255] 1 3 uint8\n",
      "[   0 -128  127] 1 3 int8\n",
      "[False  True  True] 1 3 bool\n"
     ]
    }
   ],
   "execution_count": 39
  },
  {
   "metadata": {},
   "cell_type": "markdown",
   "source": "# 二、numpy",
   "id": "525653aa2867ddb1"
  },
  {
   "metadata": {},
   "cell_type": "markdown",
   "source": "## 1.numpy的索引与切片",
   "id": "926d40d9398a440d"
  },
  {
   "metadata": {},
   "cell_type": "markdown",
   "source": [
    "- 索引/切片类型： 描述/用法\n",
    "- 基本索引： 通过整数索引直接访问元素，索引从0开始\n",
    "- 行/列切片： 使用冒号`:`切片语法选择行或列的子集\n",
    "- 连续切片： 从起始索引到结束索引按步长切片\n",
    "- 使用slice函数： 通过`slice(start, stop, step)`定义切片规则\n",
    "- 布尔索引： 通过布尔条件筛选满足条件的元素，支持逻辑运算符`&` `|`"
   ],
   "id": "3b65b1f82af71b8"
  },
  {
   "metadata": {},
   "cell_type": "markdown",
   "source": "### 一维数组的索引与切片",
   "id": "df12d2363ec8616d"
  },
  {
   "metadata": {
    "ExecuteTime": {
     "end_time": "2025-07-17T14:17:44.013367Z",
     "start_time": "2025-07-17T14:17:44.008716Z"
    }
   },
   "cell_type": "code",
   "source": [
    "arr = np.random.randint(1, 100, 15)\n",
    "print(arr)"
   ],
   "id": "1e000cba218efdf6",
   "outputs": [
    {
     "name": "stdout",
     "output_type": "stream",
     "text": [
      "[30 46  7 64 79 25 19 94 34 79 43 95  4 19 71]\n"
     ]
    }
   ],
   "execution_count": 60
  },
  {
   "metadata": {
    "ExecuteTime": {
     "end_time": "2025-07-17T14:25:43.392353Z",
     "start_time": "2025-07-17T14:25:43.386720Z"
    }
   },
   "cell_type": "code",
   "source": [
    "print(arr[10])\n",
    "print(arr[:]) # 获取全部数据\n",
    "print(arr[2:10]) # start:end+1 左包右不包\n",
    "print(arr[slice(2,10,3)]) # start, end, step 左包右不包\n",
    "print(arr[ (arr < 50) & (arr > 30) ]) # 布尔索引\n"
   ],
   "id": "dd144b2306f36576",
   "outputs": [
    {
     "name": "stdout",
     "output_type": "stream",
     "text": [
      "43\n",
      "[30 46  7 64 79 25 19 94 34 79 43 95  4 19 71]\n",
      "[ 7 64 79 25 19 94 34 79]\n",
      "[ 7 25 34]\n",
      "[46 34 43]\n"
     ]
    }
   ],
   "execution_count": 64
  },
  {
   "metadata": {},
   "cell_type": "markdown",
   "source": "### 二维数组的索引与切片",
   "id": "df29c86567df3096"
  },
  {
   "metadata": {
    "ExecuteTime": {
     "end_time": "2025-07-17T14:39:43.961015Z",
     "start_time": "2025-07-17T14:39:43.954168Z"
    }
   },
   "cell_type": "code",
   "source": [
    "arr = np.random.randint(1, 100, (3,5))\n",
    "print(arr)"
   ],
   "id": "b816def52f11343b",
   "outputs": [
    {
     "name": "stdout",
     "output_type": "stream",
     "text": [
      "[[53 23 15  5 28]\n",
      " [76  9  7 27 80]\n",
      " [83 79 11 34 86]]\n"
     ]
    }
   ],
   "execution_count": 65
  },
  {
   "metadata": {
    "ExecuteTime": {
     "end_time": "2025-07-17T14:47:28.462862Z",
     "start_time": "2025-07-17T14:47:28.456668Z"
    }
   },
   "cell_type": "code",
   "source": [
    "print(arr[1, 2])\n",
    "print(arr[ :, 3 ])\n",
    "print(arr[2, 1:4])\n",
    "print(arr[ arr < 50 ]) # 整个列表中小于50的数\n",
    "print(arr[2][ arr[2] > 50]) # 第三行中大于50的数"
   ],
   "id": "cc96c250cdb20aa4",
   "outputs": [
    {
     "name": "stdout",
     "output_type": "stream",
     "text": [
      "7\n",
      "[ 5 27 34]\n",
      "[79 11 34]\n",
      "[23 15  5 28  9  7 27 11 34]\n",
      "[83 79 86]\n"
     ]
    }
   ],
   "execution_count": 72
  },
  {
   "metadata": {},
   "cell_type": "markdown",
   "source": "## 2.ndarray的运算",
   "id": "a3e8eaacf6a3b0c4"
  },
  {
   "metadata": {},
   "cell_type": "markdown",
   "source": "- numpy一维数组算术运算（数组与数组）",
   "id": "220fd1310c96e7f0"
  },
  {
   "metadata": {
    "ExecuteTime": {
     "end_time": "2025-07-17T16:16:10.246938Z",
     "start_time": "2025-07-17T16:16:10.240659Z"
    }
   },
   "cell_type": "code",
   "source": [
    "# numpy一维数组算术运算\n",
    "a = np.array([1, 2, 3])\n",
    "b = np.array([4, 5, 6])\n",
    "print(f\"a={a}\\nb={b}\\nnumpy一维数组算术运算：\")\n",
    "print('add:', a + b)\n",
    "print('sub:', a - b)\n",
    "print('mul:', a * b)\n",
    "print('div:', a / b)\n",
    "print('power:', a ** b)"
   ],
   "id": "54a9fd7152ff44c6",
   "outputs": [
    {
     "name": "stdout",
     "output_type": "stream",
     "text": [
      "a=[1 2 3]\n",
      "b=[4 5 6]\n",
      "numpy一维数组算术运算：\n",
      "add: [5 7 9]\n",
      "sub: [-3 -3 -3]\n",
      "mul: [ 4 10 18]\n",
      "div: [0.25 0.4  0.5 ]\n",
      "power: [  1  32 729]\n"
     ]
    }
   ],
   "execution_count": 78
  },
  {
   "metadata": {
    "ExecuteTime": {
     "end_time": "2025-07-17T16:23:27.480251Z",
     "start_time": "2025-07-17T16:23:27.475550Z"
    }
   },
   "cell_type": "code",
   "source": [
    "# 原生python计算\n",
    "c = [1, 2, 3]\n",
    "d = [4, 5, 6]\n",
    "print('c:', c)\n",
    "print('d:', d)\n",
    "print('原生python计算：')\n",
    "print('add:', c + d)\n",
    "try:\n",
    "    print('sub:', c - d)\n",
    "except Exception as e:\n",
    "    print(\"\\033[31mError:\\033[0m\", e)"
   ],
   "id": "16b6b3b86bb769e6",
   "outputs": [
    {
     "name": "stdout",
     "output_type": "stream",
     "text": [
      "c: [1, 2, 3]\n",
      "d: [4, 5, 6]\n",
      "原生python计算：\n",
      "add: [1, 2, 3, 4, 5, 6]\n",
      "\u001B[31mError:\u001B[0m unsupported operand type(s) for -: 'list' and 'list'\n"
     ]
    }
   ],
   "execution_count": 83
  },
  {
   "metadata": {},
   "cell_type": "markdown",
   "source": "- numpy二维数组算术运算（数组与数组）",
   "id": "7130b0f4c089fd72"
  },
  {
   "metadata": {
    "ExecuteTime": {
     "end_time": "2025-07-17T16:40:17.131037Z",
     "start_time": "2025-07-17T16:40:17.124501Z"
    }
   },
   "cell_type": "code",
   "source": [
    "# numpy二维数组算术运算\n",
    "a = np.random.randint(1,5,(2,3))\n",
    "b = np.random.randint(1,5,(2,3))\n",
    "print(f\"a=\\n{a}\\nb=\\n{b}\\nnumpy二维数组算术运算：\")\n",
    "print('add:\\n', a + b)\n",
    "print('sub:\\n', a - b)\n",
    "print('mul:\\n', a * b)\n",
    "print('div:\\n', a / b)\n",
    "print('power:\\n', a ** b)"
   ],
   "id": "9f7e29d933a725b",
   "outputs": [
    {
     "name": "stdout",
     "output_type": "stream",
     "text": [
      "a=\n",
      "[[1 4 1]\n",
      " [3 3 4]]\n",
      "b=\n",
      "[[1 4 3]\n",
      " [4 3 4]]\n",
      "numpy二维数组算术运算：\n",
      "add:\n",
      " [[2 8 4]\n",
      " [7 6 8]]\n",
      "sub:\n",
      " [[ 0  0 -2]\n",
      " [-1  0  0]]\n",
      "mul:\n",
      " [[ 1 16  3]\n",
      " [12  9 16]]\n",
      "div:\n",
      " [[1.         1.         0.33333333]\n",
      " [0.75       1.         1.        ]]\n",
      "power:\n",
      " [[  1 256   1]\n",
      " [ 81  27 256]]\n"
     ]
    }
   ],
   "execution_count": 90
  },
  {
   "metadata": {},
   "cell_type": "markdown",
   "source": "- numpy一维数组算术运算（数组与标量）",
   "id": "f73e2ee3616450f7"
  },
  {
   "metadata": {
    "ExecuteTime": {
     "end_time": "2025-07-17T16:45:38.373530Z",
     "start_time": "2025-07-17T16:45:38.366722Z"
    }
   },
   "cell_type": "code",
   "source": [
    "a = np.array([1, 2, 3])\n",
    "n = 3\n",
    "print(a)\n",
    "print('numpy数组与标量的运算：')\n",
    "print(a + n)\n",
    "print(a - n)\n",
    "print(a * n)\n",
    "print(a / n)\n",
    "print(a ** n)"
   ],
   "id": "4d937b7ab93c982",
   "outputs": [
    {
     "name": "stdout",
     "output_type": "stream",
     "text": [
      "[1 2 3]\n",
      "numpy数组与标量的运算：\n",
      "[4 5 6]\n",
      "[-2 -1  0]\n",
      "[3 6 9]\n",
      "[0.33333333 0.66666667 1.        ]\n",
      "[ 1  8 27]\n"
     ]
    }
   ],
   "execution_count": 92
  },
  {
   "metadata": {},
   "cell_type": "markdown",
   "source": "- 广播机制（两数组形状不相同）",
   "id": "7c99a31edc1465b8"
  },
  {
   "metadata": {
    "ExecuteTime": {
     "end_time": "2025-07-17T20:50:43.651092Z",
     "start_time": "2025-07-17T20:50:43.646536Z"
    }
   },
   "cell_type": "code",
   "source": [
    "a = np.array([1, 2, 3]) # 1*3\n",
    "b = np.array([[4], [5], [6]]) # 3*1\n",
    "print(f\"a=\\n{a}\\nb=\\n{b}\\na+b=\")\n",
    "print(a + b)"
   ],
   "id": "efd530b6af7c4961",
   "outputs": [
    {
     "name": "stdout",
     "output_type": "stream",
     "text": [
      "a=\n",
      "[1 2 3]\n",
      "b=\n",
      "[[4]\n",
      " [5]\n",
      " [6]]\n",
      "a+b=\n",
      "[[5 6 7]\n",
      " [6 7 8]\n",
      " [7 8 9]]\n"
     ]
    }
   ],
   "execution_count": 3
  },
  {
   "metadata": {},
   "cell_type": "code",
   "outputs": [],
   "execution_count": null,
   "source": [
    "\"\"\"\n",
    "a:\n",
    "1 2 3       1 2 3\n",
    "       -->  1 2 3\n",
    "            1 2 3\n",
    "\n",
    "b:\n",
    "4        4 4 4\n",
    "5   -->  5 5 5\n",
    "6        6 6 6\n",
    "\n",
    "\"\"\""
   ],
   "id": "357969ae720ce54d"
  },
  {
   "metadata": {},
   "cell_type": "markdown",
   "source": "- 矩阵乘法（用@符号）",
   "id": "67a29a6d283d9344"
  },
  {
   "metadata": {
    "ExecuteTime": {
     "end_time": "2025-07-17T23:32:58.405703Z",
     "start_time": "2025-07-17T23:32:58.399748Z"
    }
   },
   "cell_type": "code",
   "source": [
    "a = np.array([[1, 2], [3, 4]])\n",
    "b = np.array([[5, 6], [7, 8]])\n",
    "print(f\"a=\\n{a}\\nb=\\n{b}\\nnumpy矩阵乘法：\")\n",
    "print(\"a x b = \\n\", a @ b)"
   ],
   "id": "65e5e9b463ab576b",
   "outputs": [
    {
     "name": "stdout",
     "output_type": "stream",
     "text": [
      "a=\n",
      "[[1 2]\n",
      " [3 4]]\n",
      "b=\n",
      "[[5 6]\n",
      " [7 8]]\n",
      "numpy矩阵乘法：\n",
      "a x b = \n",
      " [[19 22]\n",
      " [43 50]]\n"
     ]
    }
   ],
   "execution_count": 2
  },
  {
   "metadata": {},
   "cell_type": "markdown",
   "source": "## 3.numpy常用函数",
   "id": "9b9cc4e81e914fcd"
  },
  {
   "metadata": {},
   "cell_type": "markdown",
   "source": [
    "- 基本数学函数\n",
    "    - `np.sqrt(x)` `np.exp(x)` `np.log(x)` `np.sin(x)` `np.abs(x)` `np.power(a, b)` `np.round(x, n)` `np.ceil(x)` `np.floor(x)` `np.isnan(x)`\n",
    "- 统计函数\n",
    "    - `np.sum(x)` `np.cumsum(x)` `np.cumprod(x)` `np.mean(x)` `np.median(x)` `np.std(x)` `np.var(x)` `np.min(x)` `np.max(x)` `np.argmin(x)` `np.argmax(x)` `np.percentile(x, q)`\n",
    "- 比较函数\n",
    "    - `np.greater(a, b)` `np.less(a, b)` `np.equal(a, b)` `np.not_equal(a, b)` `np.logical_and(a, b)` `np.logical_or(a, b)` `np.logical_not(x)` `np.any(x)` `np.all(x)` `np.where(condition, x, y)` `np.select(conditions, choices, default)`\n",
    "- 排序函数\n",
    "    - `np.sort(x)` `x.sort()` `np.argsort(x)` `np.lexsort(keys)` `np.searchsorted(x, v)` `np.partition(x, kth)` `np.argpartition(x, kth)`\n",
    "- 去重函数\n",
    "    - `np.unique(x)`\n",
    "- 其他函数\n",
    "    - `np.concatenate((a, b))` `np.split(x, indices_or_sections)` `np.reshape(x, newshape)` `np.copy(x)` `np.isnan(x)` `np.transpose(x)` `np.ravel(x)`\n",
    "- 线性代数函数⭐\n",
    "    - `np.dot(a, b)` `np.linalg.inv(A)` `np.linalg.eig(A)` `np.linalg.svd(A)`\n",
    "- 傅里叶变换函数⭐\n",
    "    - `np.fft.fft(x)` `np.fft.ifft(x)` `np.fft.fft2(x)` `np.fft.ifft2(x)`"
   ],
   "id": "c8aaa7a246388822"
  },
  {
   "metadata": {},
   "cell_type": "markdown",
   "source": "### 3.1 基本数学函数",
   "id": "b80a7c2ba531cd74"
  },
  {
   "metadata": {
    "ExecuteTime": {
     "end_time": "2025-07-20T03:17:04.268363Z",
     "start_time": "2025-07-20T03:17:04.257587Z"
    }
   },
   "cell_type": "code",
   "source": [
    "# 计算平方根 X^0.5\n",
    "print(np.sqrt(4))\n",
    "print(np.sqrt([1, 4, 9]))\n",
    "\n",
    "# 计算指数 e^x\n",
    "print(np.exp(1))\n",
    "print(np.exp([1, 2, 3]))\n",
    "\n",
    "# 计算自然对数 lnX\n",
    "print(np.log(np.e))\n",
    "print(np.log([1, np.e, np.e**2, np.e**3]))"
   ],
   "id": "ec6cfc83cac2a7ff",
   "outputs": [
    {
     "name": "stdout",
     "output_type": "stream",
     "text": [
      "2.0\n",
      "[1. 2. 3.]\n",
      "2.718281828459045\n",
      "[ 2.71828183  7.3890561  20.08553692]\n",
      "1.0\n",
      "[0. 1. 2. 3.]\n"
     ]
    }
   ],
   "execution_count": 38
  },
  {
   "metadata": {
    "ExecuteTime": {
     "end_time": "2025-07-20T03:20:36.992650Z",
     "start_time": "2025-07-20T03:20:36.984724Z"
    }
   },
   "cell_type": "code",
   "source": [
    "# 计算正弦值\n",
    "print(np.sin([0, np.pi/2, np.pi, 3*np.pi/2]))\n",
    "# 计算余弦值\n",
    "print(np.cos([0, np.pi/2, np.pi, 3*np.pi/2]))\n",
    "# 计算正切值\n",
    "print(np.tan([0, np.pi/2, np.pi, 3*np.pi/2]))"
   ],
   "id": "4d270abc8d3b4253",
   "outputs": [
    {
     "name": "stdout",
     "output_type": "stream",
     "text": [
      "[ 0.0000000e+00  1.0000000e+00  1.2246468e-16 -1.0000000e+00]\n",
      "[ 1.0000000e+00  6.1232340e-17 -1.0000000e+00 -1.8369702e-16]\n",
      "[ 0.00000000e+00  1.63312394e+16 -1.22464680e-16  5.44374645e+15]\n"
     ]
    }
   ],
   "execution_count": 39
  },
  {
   "metadata": {
    "ExecuteTime": {
     "end_time": "2025-07-20T03:26:37.745093Z",
     "start_time": "2025-07-20T03:26:37.739265Z"
    }
   },
   "cell_type": "code",
   "source": [
    "# 计算绝对值\n",
    "print(np.abs([1, -2, -5]))\n",
    "\n",
    "# 计算a的b次幂 （a，b）\n",
    "print(np.power(5, 2))\n",
    "\n",
    "# 四舍六入五成双\n",
    "print(np.round([1.5, 2.5, 3.5, 4.5]))\n",
    "print(np.round([1.45, 2.45, 3.65, 4.65, 5.55, 6.55],1))\n"
   ],
   "id": "2418473d00ab3ac",
   "outputs": [
    {
     "name": "stdout",
     "output_type": "stream",
     "text": [
      "[1 2 5]\n",
      "25\n",
      "[2. 2. 4. 4.]\n",
      "[1.4 2.4 3.6 4.6 5.6 6.6]\n"
     ]
    }
   ],
   "execution_count": 41
  },
  {
   "metadata": {
    "ExecuteTime": {
     "end_time": "2025-07-20T03:30:55.094457Z",
     "start_time": "2025-07-20T03:30:55.088081Z"
    }
   },
   "cell_type": "code",
   "source": [
    "# 向上取整\n",
    "print(np.ceil([1.2, 2.5, 3.7]))\n",
    "\n",
    "# 向下取整\n",
    "print(np.floor([1.2, 2.5, 3.7]))\n",
    "\n",
    "# 检测缺失值NaN\n",
    "print(np.isnan([1.2, 2.5, 3.7, np.nan]))"
   ],
   "id": "b63712e34dbc21e4",
   "outputs": [
    {
     "name": "stdout",
     "output_type": "stream",
     "text": [
      "[2. 3. 4.]\n",
      "[1. 2. 3.]\n",
      "[False False False  True]\n"
     ]
    }
   ],
   "execution_count": 42
  },
  {
   "metadata": {},
   "cell_type": "markdown",
   "source": "### 3.2 统计函数",
   "id": "2d6035308ae45c94"
  },
  {
   "metadata": {},
   "cell_type": "code",
   "outputs": [],
   "execution_count": null,
   "source": [
    "# variance 方差\n",
    "# standard deviation 标准差"
   ],
   "id": "8a14d869f338e295"
  },
  {
   "metadata": {
    "ExecuteTime": {
     "end_time": "2025-07-20T04:12:21.473941Z",
     "start_time": "2025-07-20T04:12:21.468802Z"
    }
   },
   "cell_type": "code",
   "source": [
    "arr1 = np.random.randint(1, 20, 10)\n",
    "arr2 = np.random.randint(1, 10, 5)\n",
    "print(arr1)\n",
    "print(arr2)\n",
    "\n",
    "# 求和\n",
    "print('sum:',np.sum(arr1))\n",
    "# 累加\n",
    "print('cumsum:',np.cumsum(arr1))\n",
    "# 累乘\n",
    "print('cumprod:',np.cumprod(arr2))"
   ],
   "id": "9e4a9e6f209e2210",
   "outputs": [
    {
     "name": "stdout",
     "output_type": "stream",
     "text": [
      "[ 1 12  5  6  3  1  3  5 16 18]\n",
      "[7 7 1 8 8]\n",
      "sum: 70\n",
      "cumsum: [ 1 13 18 24 27 28 31 36 52 70]\n",
      "cumprod: [   7   49   49  392 3136]\n"
     ]
    }
   ],
   "execution_count": 45
  },
  {
   "metadata": {
    "ExecuteTime": {
     "end_time": "2025-07-20T04:26:39.349833Z",
     "start_time": "2025-07-20T04:26:39.342927Z"
    }
   },
   "cell_type": "code",
   "source": [
    "print('arr1:',arr1)\n",
    "print('arr2:',arr2)\n",
    "\n",
    "# 平均值\n",
    "print('mean 1:',np.mean(arr1))\n",
    "print('mean 2:',np.mean(arr2))\n",
    "\n",
    "# 中位数\n",
    "print('median 1:',np.median(arr1))\n",
    "print('median 2:',np.median(arr2))\n",
    "\n",
    "# 标准差\n",
    "print('standard deviation 1:',np.std(arr1))\n",
    "print('standard deviation 2:',np.std(arr2))\n",
    "\n",
    "# 方差\n",
    "print('variance 1:',np.var(arr1))\n",
    "print('variance 2:',np.var(arr2))\n",
    "\n",
    "# 最大值\n",
    "print('max 1:', np.max(arr1), '\\tindex max (argmax) 1:', np.argmax(arr1))\n",
    "\n",
    "# 最小值\n",
    "print('min 2:', np.min(arr2), '\\tindex min (argmin) 2:', np.argmin(arr2))\n",
    "\n",
    "# 分位数\n",
    "print('pencentile 1:', np.percentile(arr1, 25))\n",
    "print('pencentile 2:', np.percentile(arr2, 50))"
   ],
   "id": "72dccab66c41327a",
   "outputs": [
    {
     "name": "stdout",
     "output_type": "stream",
     "text": [
      "arr1: [ 1 12  5  6  3  1  3  5 16 18]\n",
      "arr2: [7 7 1 8 8]\n",
      "mean 1: 7.0\n",
      "mean 2: 6.2\n",
      "median 1: 5.0\n",
      "median 2: 7.0\n",
      "standard deviation 1: 5.830951894845301\n",
      "standard deviation 2: 2.6381811916545836\n",
      "variance 1: 34.0\n",
      "variance 2: 6.959999999999999\n",
      "max 1: 18 \tindex max (argmax) 1: 9\n",
      "min 2: 1 \tindex min (argmin) 2: 2\n",
      "pencentile 1: 3.0\n",
      "pencentile 2: 7.0\n"
     ]
    }
   ],
   "execution_count": 49
  },
  {
   "metadata": {},
   "cell_type": "markdown",
   "source": "### 3.3 比较函数",
   "id": "8ceef6129e8c04ef"
  },
  {
   "metadata": {
    "ExecuteTime": {
     "end_time": "2025-07-20T15:24:36.874174Z",
     "start_time": "2025-07-20T15:24:36.868752Z"
    }
   },
   "cell_type": "code",
   "source": [
    "# 比较大小\n",
    "\n",
    "# 是否大于\n",
    "print('1:', np.greater([3, 4, 5, 6], 4.5))\n",
    "print('2:', np.greater([3, 5, 8], [3, 6, 7]))  # 对应位置比较，形状要保持一致\n",
    "# 是否小于\n",
    "print('3:', np.less([3, 4, 5, 6], 4.5))\n",
    "# 是否等于\n",
    "print('4:', np.equal([3, 4, 5, 6], 5))\n",
    "print('5:', np.equal([3, 5, 7], [3, 6, 7]))\n",
    "# 是否不等于\n",
    "print('6:', np.not_equal([3, 4, 5, 6], 5))"
   ],
   "id": "64a8fbe2e4a5b7a",
   "outputs": [
    {
     "name": "stdout",
     "output_type": "stream",
     "text": [
      "1: [False False  True  True]\n",
      "2: [False False  True]\n",
      "3: [ True  True False False]\n",
      "4: [False False  True False]\n",
      "5: [ True False  True]\n",
      "6: [ True  True False  True]\n"
     ]
    }
   ],
   "execution_count": 62
  },
  {
   "metadata": {
    "ExecuteTime": {
     "end_time": "2025-07-20T15:28:35.449114Z",
     "start_time": "2025-07-20T15:28:35.444282Z"
    }
   },
   "cell_type": "code",
   "source": [
    "print(np.logical_and([1, 0], [1, 1]))  # 逻辑与\n",
    "print(np.logical_or([1, 0], [0, 1]))  # 逻辑或\n",
    "print(np.logical_not([1, 0]))  # 逻辑非"
   ],
   "id": "c4ffa80c57b36f13",
   "outputs": [
    {
     "name": "stdout",
     "output_type": "stream",
     "text": [
      "[ True False]\n",
      "[ True  True]\n",
      "[False  True]\n"
     ]
    }
   ],
   "execution_count": 64
  },
  {
   "metadata": {
    "ExecuteTime": {
     "end_time": "2025-07-20T15:34:43.082090Z",
     "start_time": "2025-07-20T15:34:43.077749Z"
    }
   },
   "cell_type": "code",
   "source": [
    "# 检查元素是否至少有一个元素为True\n",
    "print(np.any([0, 0, 1]))\n",
    "# 检查元素是否全为True\n",
    "print(np.all([1, 0, 1]))"
   ],
   "id": "832075c27ad46e75",
   "outputs": [
    {
     "name": "stdout",
     "output_type": "stream",
     "text": [
      "True\n",
      "False\n"
     ]
    }
   ],
   "execution_count": 67
  },
  {
   "metadata": {
    "ExecuteTime": {
     "end_time": "2025-07-20T15:43:03.096772Z",
     "start_time": "2025-07-20T15:43:03.090651Z"
    }
   },
   "cell_type": "code",
   "source": [
    "# 自定义条件\n",
    "# np.where(判断条件, 条件为真时执行, 条件为假时执行)\n",
    "arr = np.random.randint(1, 15, 10)\n",
    "print(arr)\n",
    "print(np.where(arr > 7, 1, 0))\n",
    "print(np.where(arr < 6, arr, 0))\n",
    "print(np.where([True, False, True], [1, 2, 3], [4, 5, 6]))\n",
    "print(np.where([[True, False], [True, True]], [[1, 2], [3, 4]], [[9, 8], [7, 6]]))"
   ],
   "id": "5b621b7759527894",
   "outputs": [
    {
     "name": "stdout",
     "output_type": "stream",
     "text": [
      "[ 6  6  7  2  6  6 14  7 13  1]\n",
      "[0 0 0 0 0 0 1 0 1 0]\n",
      "[0 0 0 2 0 0 0 0 0 1]\n",
      "[1 5 3]\n",
      "[[1 8]\n",
      " [3 4]]\n"
     ]
    }
   ],
   "execution_count": 76
  },
  {
   "metadata": {
    "ExecuteTime": {
     "end_time": "2025-07-20T15:51:00.992622Z",
     "start_time": "2025-07-20T15:51:00.987849Z"
    }
   },
   "cell_type": "code",
   "source": [
    "# 嵌套条件判断\n",
    "score = np.random.randint(1, 100, 20)\n",
    "print(score)\n",
    "print(np.where(score > 80, 'good',\n",
    "               np.where(score > 60, 'medium', 'bad')))"
   ],
   "id": "690471fb32133964",
   "outputs": [
    {
     "name": "stdout",
     "output_type": "stream",
     "text": [
      "[66 87 16 14 98 55 65 23 57 98 79 69 46 70 80 50 59 78 53 77]\n",
      "['medium' 'good' 'bad' 'bad' 'good' 'bad' 'medium' 'bad' 'bad' 'good'\n",
      " 'medium' 'medium' 'bad' 'medium' 'medium' 'bad' 'bad' 'medium' 'bad'\n",
      " 'medium']\n"
     ]
    }
   ],
   "execution_count": 83
  },
  {
   "metadata": {
    "ExecuteTime": {
     "end_time": "2025-07-20T15:59:54.775682Z",
     "start_time": "2025-07-20T15:59:54.770157Z"
    }
   },
   "cell_type": "code",
   "source": [
    "# np.select(条件, 返回的结果)\n",
    "print(np.select([score > 80, (score>=60) & (score<=80), score < 60],\n",
    "                ['good', 'medium', 'bad'],\n",
    "                default='unknown'))"
   ],
   "id": "265ccf2b16e6b2d4",
   "outputs": [
    {
     "name": "stdout",
     "output_type": "stream",
     "text": [
      "['medium' 'good' 'bad' 'bad' 'good' 'bad' 'medium' 'bad' 'bad' 'good'\n",
      " 'medium' 'medium' 'bad' 'medium' 'medium' 'bad' 'bad' 'medium' 'bad'\n",
      " 'medium']\n"
     ]
    }
   ],
   "execution_count": 88
  },
  {
   "metadata": {},
   "cell_type": "markdown",
   "source": "### 3.4 排序函数",
   "id": "8dca374e11f4f34a"
  },
  {
   "metadata": {
    "ExecuteTime": {
     "end_time": "2025-07-20T18:36:24.426760Z",
     "start_time": "2025-07-20T18:36:24.417685Z"
    }
   },
   "cell_type": "code",
   "source": [
    "# 排序函数 sort()  np.sort()  np.argsort()\n",
    "arr1 = np.random.randint(1, 100, 10)\n",
    "arr2 = np.random.randint(1, 100, 10)\n",
    "print('arr1:', arr1)\n",
    "arr1.sort()  # python原生排序，会改变arr的值\n",
    "print(arr1)\n",
    "print('arr2:', arr2)\n",
    "print(np.sort(arr2))  # numpy排序，不会改变arr2的值\n",
    "print(np.argsort(arr2))  # numpy排序后的数对应的原数组的下标\n",
    "print(arr2)"
   ],
   "id": "d01685c37544a34c",
   "outputs": [
    {
     "name": "stdout",
     "output_type": "stream",
     "text": [
      "arr1: [76 69  7 69 48  4 77 53 79 16]\n",
      "[ 4  7 16 48 53 69 69 76 77 79]\n",
      "arr2: [21 59 24 80 14 86 49 50 70 42]\n",
      "[14 21 24 42 49 50 59 70 80 86]\n",
      "[4 0 2 9 6 7 1 8 3 5]\n",
      "[21 59 24 80 14 86 49 50 70 42]\n"
     ]
    }
   ],
   "execution_count": 94
  },
  {
   "metadata": {},
   "cell_type": "markdown",
   "source": "### 3.5 去重函数",
   "id": "e4bab5423645767e"
  },
  {
   "metadata": {
    "ExecuteTime": {
     "end_time": "2025-07-20T19:24:17.352814Z",
     "start_time": "2025-07-20T19:24:17.347824Z"
    }
   },
   "cell_type": "code",
   "source": [
    "# 去重函数\n",
    "print(np.unique([0, 2 ,2, 3, 5, 6, 1, 3]))  # 去重并排序"
   ],
   "id": "f9889a255b4570e1",
   "outputs": [
    {
     "name": "stdout",
     "output_type": "stream",
     "text": [
      "[0 1 2 3 5 6]\n"
     ]
    }
   ],
   "execution_count": 130
  },
  {
   "metadata": {},
   "cell_type": "markdown",
   "source": "### 3.6 其他函数",
   "id": "5432982b43c18bf0"
  },
  {
   "metadata": {
    "ExecuteTime": {
     "end_time": "2025-07-20T19:05:48.227776Z",
     "start_time": "2025-07-20T19:05:48.223370Z"
    }
   },
   "cell_type": "code",
   "source": [
    "# 数组的拼接\n",
    "print(arr1 + arr2)  # 各个位置分别相加\n",
    "print(np.concatenate((arr1, arr2)))  # 将两个数组拼接在一起"
   ],
   "id": "436afa4e1a6cceb6",
   "outputs": [
    {
     "name": "stdout",
     "output_type": "stream",
     "text": [
      "[ 25  66  40 128  67 155 118 126 147 121]\n",
      "[ 4  7 16 48 53 69 69 76 77 79 21 59 24 80 14 86 49 50 70 42]\n"
     ]
    }
   ],
   "execution_count": 117
  },
  {
   "metadata": {
    "ExecuteTime": {
     "end_time": "2025-07-20T19:05:48.249329Z",
     "start_time": "2025-07-20T19:05:48.245287Z"
    }
   },
   "cell_type": "code",
   "source": [
    "# 数组的分割\n",
    "print(arr1)\n",
    "print(np.split(arr1, 5))  # 要能等分的份数\n",
    "print(np.split(arr1, [3, 6, 8]))  # 手动输入分割的位置"
   ],
   "id": "2b94bb7dc869dd48",
   "outputs": [
    {
     "name": "stdout",
     "output_type": "stream",
     "text": [
      "[ 4  7 16 48 53 69 69 76 77 79]\n",
      "[array([4, 7], dtype=int32), array([16, 48], dtype=int32), array([53, 69], dtype=int32), array([69, 76], dtype=int32), array([77, 79], dtype=int32)]\n",
      "[array([ 4,  7, 16], dtype=int32), array([48, 53, 69], dtype=int32), array([69, 76], dtype=int32), array([77, 79], dtype=int32)]\n"
     ]
    }
   ],
   "execution_count": 118
  },
  {
   "metadata": {
    "ExecuteTime": {
     "end_time": "2025-07-20T19:19:13.666686Z",
     "start_time": "2025-07-20T19:19:13.660105Z"
    }
   },
   "cell_type": "code",
   "source": [
    "x = np.random.randint(1, 10, (3, 4))\n",
    "print('x:', x)\n",
    "\n",
    "# 将数组展平, 不会改变原数组\n",
    "print('np.ravel(x):\\n', np.ravel(x))\n",
    "\n",
    "# 数组的转置, 不会改变原数组\n",
    "print('np.transpose(x):\\n', np.transpose(x))\n",
    "\n",
    "# 数组的形状改变, 不会改变原数组\n",
    "print('np.reshape(x, (2,6)):\\n', np.reshape(x, (2,6)))\n",
    "print('x:', x)"
   ],
   "id": "878d3eaf0504630e",
   "outputs": [
    {
     "name": "stdout",
     "output_type": "stream",
     "text": [
      "x: [[7 1 7 4]\n",
      " [4 9 9 9]\n",
      " [3 4 3 1]]\n",
      "np.ravel(x):\n",
      " [7 1 7 4 4 9 9 9 3 4 3 1]\n",
      "np.transpose(x):\n",
      " [[7 4 3]\n",
      " [1 9 4]\n",
      " [7 9 3]\n",
      " [4 9 1]]\n",
      "np.reshape(x, (2,6)):\n",
      " [[7 1 7 4 4 9]\n",
      " [9 9 3 4 3 1]]\n",
      "x: [[7 1 7 4]\n",
      " [4 9 9 9]\n",
      " [3 4 3 1]]\n"
     ]
    }
   ],
   "execution_count": 129
  },
  {
   "metadata": {},
   "cell_type": "markdown",
   "source": "## 4. 小练习",
   "id": "4f621b7deca806df"
  },
  {
   "metadata": {},
   "cell_type": "markdown",
   "source": "- 具体题目看老师PPT，这里仅做练手",
   "id": "c089dda2f4c2d8b7"
  },
  {
   "metadata": {
    "ExecuteTime": {
     "end_time": "2025-07-20T20:12:12.077741Z",
     "start_time": "2025-07-20T20:12:12.072450Z"
    }
   },
   "cell_type": "code",
   "source": [
    "\"\"\"\n",
    "test 1: 温度数据分析\n",
    "\"\"\"\n",
    "temp = np.array([28, 30, 29, 31, 32, 30, 29])\n",
    "print('温度：', temp)\n",
    "print('平均气温：%.3f' % np.mean(temp))\n",
    "print('最高气温:', np.max(temp))\n",
    "print('最低气温:', np.min(temp))\n",
    "# solution 1\n",
    "print('气温超过30摄氏度的天数为：', len(temp[temp > 30])) # 布尔索引，temp必须是ndarray\n",
    "# solution 2\n",
    "print('气温超过30摄氏度的天数为：', np.sum(np.greater(temp, 30)))  # temp可以是ndarray，也可以是普通python列表\n",
    "# solution 3\n",
    "print('气温超过30摄氏度的天数为：', np.sum(np.where(temp > 30, 1, 0))) # temp必须是ndarray"
   ],
   "id": "474184f92260761b",
   "outputs": [
    {
     "name": "stdout",
     "output_type": "stream",
     "text": [
      "温度： [28 30 29 31 32 30 29]\n",
      "平均气温：29.857\n",
      "最高气温: 32\n",
      "最低气温: 28\n",
      "气温超过30摄氏度的天数为： 2\n"
     ]
    }
   ],
   "execution_count": 140
  },
  {
   "metadata": {
    "ExecuteTime": {
     "end_time": "2025-07-20T20:21:54.786103Z",
     "start_time": "2025-07-20T20:21:54.780843Z"
    }
   },
   "cell_type": "code",
   "source": [
    "\"\"\"\n",
    "test 2: 学生成绩统计\n",
    "\"\"\"\n",
    "scores = np.array([85, 90, 78, 92, 88])\n",
    "print('学生成绩：', scores)\n",
    "print('平均分：', np.mean(scores))\n",
    "print('中位数：', np.median(scores))\n",
    "print('标准差：%.3f' % np.std(scores))\n",
    "print('10分制：', scores / 10)"
   ],
   "id": "43510605bf19e774",
   "outputs": [
    {
     "name": "stdout",
     "output_type": "stream",
     "text": [
      "学生成绩： [85 90 78 92 88]\n",
      "平均分： 86.6\n",
      "中位数： 88.0\n",
      "标准差：4.883\n",
      "10分制： [8.5 9.  7.8 9.2 8.8]\n"
     ]
    }
   ],
   "execution_count": 144
  },
  {
   "metadata": {
    "ExecuteTime": {
     "end_time": "2025-07-20T20:31:23.702769Z",
     "start_time": "2025-07-20T20:31:23.695526Z"
    }
   },
   "cell_type": "code",
   "source": [
    "\"\"\"\n",
    "test 3: 矩阵运算\n",
    "\"\"\"\n",
    "A = np.array([[1, 2], [3, 4]])\n",
    "B = np.array([[5, 6], [7, 8]])\n",
    "print('A:\\n', A)\n",
    "print('B:\\n', B)\n",
    "print('A的转置（不影响原数组）：\\n', A.T)\n",
    "print('逐元素加法：\\n', A + B)\n",
    "print('逐元素乘法：\\n', A * B)\n",
    "print('矩阵乘法（点积）：\\n', A @ B)\n",
    "print('矩阵乘法（点积）：\\n', np.dot(A, B))"
   ],
   "id": "b7ab5e79ddd2acb",
   "outputs": [
    {
     "name": "stdout",
     "output_type": "stream",
     "text": [
      "A:\n",
      " [[1 2]\n",
      " [3 4]]\n",
      "B:\n",
      " [[5 6]\n",
      " [7 8]]\n",
      "A的转置（不影响原数组）：\n",
      " [[1 3]\n",
      " [2 4]]\n",
      "逐元素加法：\n",
      " [[ 6  8]\n",
      " [10 12]]\n",
      "逐元素乘法：\n",
      " [[ 5 12]\n",
      " [21 32]]\n",
      "矩阵乘法（点积）：\n",
      " [[19 22]\n",
      " [43 50]]\n",
      "矩阵乘法（点积）：\n",
      " [[19 22]\n",
      " [43 50]]\n"
     ]
    }
   ],
   "execution_count": 148
  },
  {
   "metadata": {
    "ExecuteTime": {
     "end_time": "2025-07-20T20:44:47.332185Z",
     "start_time": "2025-07-20T20:44:47.326575Z"
    }
   },
   "cell_type": "code",
   "source": [
    "\"\"\"\n",
    "test 4: 随机数据生成\n",
    "\"\"\"\n",
    "arr = np.random.randint(0, 10, (3, 4))\n",
    "print('arr:\\n', arr)\n",
    "print('每列的最大值：\\n', np.max(arr, axis = 0))\n",
    "print('每行的最小值：\\n', np.min(arr, axis = 1))\n",
    "\n",
    "# solution 1 函数\n",
    "print('将数组中的所有奇数替换为 -1：\\n', np.where(arr % 2 == 1, -1, arr))\n",
    "\n",
    "# solution 2 索引\n",
    "arr[(arr % 2) == 1] = -1\n",
    "print('将数组中的所有奇数替换为 -1：\\n', arr)"
   ],
   "id": "7dd267b5003b7203",
   "outputs": [
    {
     "name": "stdout",
     "output_type": "stream",
     "text": [
      "arr:\n",
      " [[9 8 0 8]\n",
      " [5 9 0 9]\n",
      " [6 5 3 1]]\n",
      "每列的最大值：\n",
      " [9 9 3 9]\n",
      "每行的最小值：\n",
      " [0 0 1]\n",
      "将数组中的所有奇数替换为 -1：\n",
      " [[-1  8  0  8]\n",
      " [-1 -1  0 -1]\n",
      " [ 6 -1 -1 -1]]\n",
      "将数组中的所有奇数替换为 -1：\n",
      " [[-1  8  0  8]\n",
      " [-1 -1  0 -1]\n",
      " [ 6 -1 -1 -1]]\n"
     ]
    }
   ],
   "execution_count": 156
  },
  {
   "metadata": {
    "ExecuteTime": {
     "end_time": "2025-07-20T21:23:55.913658Z",
     "start_time": "2025-07-20T21:23:55.908071Z"
    }
   },
   "cell_type": "code",
   "source": [
    "\"\"\"\n",
    "test 5: 数组变形\n",
    "\"\"\"\n",
    "arr = np.arange(1, 13)\n",
    "print('arr:\\n', arr)\n",
    "arr = np.reshape(arr, (3, 4))\n",
    "print('将数组变形为 3x4 的二维数组：\\n', arr)\n",
    "print('每行的和：\\n', np.sum(arr, axis = 1))  # axis = 1 表示 行\n",
    "print('每列的平均值：\\n', np.mean(arr, axis = 0))  # axis = 0 表示 列\n",
    "print('展平成一维数组：\\n', np.ravel(arr))"
   ],
   "id": "37553f9931f2a527",
   "outputs": [
    {
     "name": "stdout",
     "output_type": "stream",
     "text": [
      "arr:\n",
      " [ 1  2  3  4  5  6  7  8  9 10 11 12]\n",
      "将数组变形为 3x4 的二维数组：\n",
      " [[ 1  2  3  4]\n",
      " [ 5  6  7  8]\n",
      " [ 9 10 11 12]]\n",
      "每行的和：\n",
      " [10 26 42]\n",
      "每列的平均值：\n",
      " [5. 6. 7. 8.]\n",
      "展平成一维数组：\n",
      " [ 1  2  3  4  5  6  7  8  9 10 11 12]\n"
     ]
    }
   ],
   "execution_count": 163
  },
  {
   "metadata": {
    "ExecuteTime": {
     "end_time": "2025-07-20T21:33:49.826548Z",
     "start_time": "2025-07-20T21:33:49.820428Z"
    }
   },
   "cell_type": "code",
   "source": [
    "\"\"\"\n",
    "test 6: 布尔索引\n",
    "\"\"\"\n",
    "arr = np.random.randint(0, 20, (5, 5))\n",
    "print('arr:\\n', arr)\n",
    "print('找出数组中大于10的元素：\\n', arr[arr > 10])\n",
    "arr[arr > 10] = 0\n",
    "print('将数组中大于 10 的元素替换为 0：\\n', arr)"
   ],
   "id": "ce0042073ccf9207",
   "outputs": [
    {
     "name": "stdout",
     "output_type": "stream",
     "text": [
      "arr:\n",
      " [[11  0 11  8 10]\n",
      " [11  5 15  8  2]\n",
      " [19 19 14  3  3]\n",
      " [ 7  9  9  9  3]\n",
      " [14 18 12  3  9]]\n",
      "找出数组中大于10的元素：\n",
      " [11 11 11 15 19 19 14 14 18 12]\n",
      "将数组中大于 10 的元素替换为 0：\n",
      " [[ 0  0  0  8 10]\n",
      " [ 0  5  0  8  2]\n",
      " [ 0  0  0  3  3]\n",
      " [ 7  9  9  9  3]\n",
      " [ 0  0  0  3  9]]\n"
     ]
    }
   ],
   "execution_count": 165
  },
  {
   "metadata": {
    "ExecuteTime": {
     "end_time": "2025-07-20T21:43:37.228592Z",
     "start_time": "2025-07-20T21:43:37.221187Z"
    }
   },
   "cell_type": "code",
   "source": [
    "\"\"\"\n",
    "test 7: 统计函数应用\n",
    "\"\"\"\n",
    "total = np.array([120, 135, 110, 125, 130, 140])\n",
    "print('total:\\n', total)\n",
    "print('销售额 总和：', np.sum(total))\n",
    "print('销售额 均值：%.3f' % np.mean(total))\n",
    "print('销售额 方差：%.3f' % np.var(total))\n",
    "print('销售额最高的月份：', np.argmax(total) + 1 )  # 从0开始索引的，所以要加1\n",
    "print('销售额最低的月份：', np.argmin(total) + 1 )  # 从0开始索引的，所以要加1"
   ],
   "id": "77a5997b995d0853",
   "outputs": [
    {
     "name": "stdout",
     "output_type": "stream",
     "text": [
      "total:\n",
      " [120 135 110 125 130 140]\n",
      "销售额 总和： 760\n",
      "销售额 均值：126.667\n",
      "销售额 方差：97.222\n",
      "销售额最高的月份： 6\n",
      "销售额最低的月份： 3\n"
     ]
    }
   ],
   "execution_count": 169
  },
  {
   "metadata": {
    "ExecuteTime": {
     "end_time": "2025-07-20T21:51:42.788856Z",
     "start_time": "2025-07-20T21:51:42.783954Z"
    }
   },
   "cell_type": "code",
   "source": [
    "\"\"\"\n",
    "test 8: 数组拼接\n",
    "\"\"\"\n",
    "A = np.array([1, 2, 3])\n",
    "B = np.array([4, 5, 6])\n",
    "print('A:', A)\n",
    "print('B:', B)\n",
    "C = np.concatenate([A, B])\n",
    "print('A和B水平拼接：', C)\n",
    "print('A和B垂直拼接：\\n', np.reshape(C, (2, 3)))"
   ],
   "id": "381d572324f80738",
   "outputs": [
    {
     "name": "stdout",
     "output_type": "stream",
     "text": [
      "A: [1 2 3]\n",
      "B: [4 5 6]\n",
      "A和B水平拼接： [1 2 3 4 5 6]\n",
      "A和B垂直拼接：\n",
      " [[1 2 3]\n",
      " [4 5 6]]\n"
     ]
    }
   ],
   "execution_count": 173
  },
  {
   "metadata": {
    "ExecuteTime": {
     "end_time": "2025-07-20T22:09:26.120705Z",
     "start_time": "2025-07-20T22:09:26.115624Z"
    }
   },
   "cell_type": "code",
   "source": [
    "\"\"\"\n",
    "test 9: 数组拼接\n",
    "\"\"\"\n",
    "arr = np.random.randint(1, 5, (2,3))\n",
    "print('arr:\\n', arr)\n",
    "arr, counts = np.unique(arr, return_counts = True)\n",
    "print('去重并排序：', arr)\n",
    "print('次数:', counts)\n"
   ],
   "id": "d98949389791551a",
   "outputs": [
    {
     "name": "stdout",
     "output_type": "stream",
     "text": [
      "arr:\n",
      " [[3 1 2]\n",
      " [2 1 4]]\n",
      "去重并排序： [1 2 3 4]\n",
      "次数: [2 2 1 1]\n"
     ]
    }
   ],
   "execution_count": 176
  },
  {
   "metadata": {
    "ExecuteTime": {
     "end_time": "2025-07-20T22:23:48.219980Z",
     "start_time": "2025-07-20T22:23:48.214811Z"
    }
   },
   "cell_type": "code",
   "source": [
    "\"\"\"\n",
    "test 10: 综合应用\n",
    "\"\"\"\n",
    "sell = np.array([20, 25, 22, 30, 28])\n",
    "cost = np.array([15, 18, 16, 22, 20])\n",
    "print('sell:', sell)\n",
    "print('cost:', cost)\n",
    "profit = sell - cost\n",
    "print('利润：', profit)\n",
    "print('利润的平均值：', np.mean(profit))\n",
    "print('利润的标准差：%.3f' % np.std(profit))\n",
    "print(f'利润最高的天数有 {len(profit[profit == np.max(profit)])} 天')"
   ],
   "id": "91374bf0a18e8ae4",
   "outputs": [
    {
     "name": "stdout",
     "output_type": "stream",
     "text": [
      "sell: [20 25 22 30 28]\n",
      "cost: [15 18 16 22 20]\n",
      "利润： [5 7 6 8 8]\n",
      "利润的平均值： 6.8\n",
      "利润的标准差：1.166\n",
      "利润最高的天数有 2 天\n"
     ]
    }
   ],
   "execution_count": 182
  },
  {
   "metadata": {},
   "cell_type": "markdown",
   "source": "# Congratulations!⭐",
   "id": "4ce8819c55777d33"
  }
 ],
 "metadata": {
  "kernelspec": {
   "display_name": "Python 3",
   "language": "python",
   "name": "python3"
  },
  "language_info": {
   "codemirror_mode": {
    "name": "ipython",
    "version": 2
   },
   "file_extension": ".py",
   "mimetype": "text/x-python",
   "name": "python",
   "nbconvert_exporter": "python",
   "pygments_lexer": "ipython2",
   "version": "2.7.6"
  }
 },
 "nbformat": 4,
 "nbformat_minor": 5
}
